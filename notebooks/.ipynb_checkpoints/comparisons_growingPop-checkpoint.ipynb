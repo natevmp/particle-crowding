{
 "cells": [
  {
   "cell_type": "markdown",
   "metadata": {},
   "source": [
    "# Particle simulation vs Langevin model"
   ]
  },
  {
   "cell_type": "code",
   "execution_count": 1,
   "metadata": {},
   "outputs": [],
   "source": [
    "include(\"../src/bmparticles.jl\")\n",
    "include(\"../src/bmtheory.jl\")\n",
    "using .BParts\n",
    "using .Theorist\n",
    "using DifferentialEquations, Distributions"
   ]
  },
  {
   "cell_type": "markdown",
   "metadata": {},
   "source": [
    "## Growing population"
   ]
  },
  {
   "cell_type": "markdown",
   "metadata": {},
   "source": [
    "### Parameters"
   ]
  },
  {
   "cell_type": "code",
   "execution_count": 2,
   "metadata": {},
   "outputs": [
    {
     "data": {
      "text/plain": [
       "Plots.GRBackend()"
      ]
     },
     "execution_count": 2,
     "metadata": {},
     "output_type": "execute_result"
    }
   ],
   "source": [
    "using Plots\n",
    "# plotly()\n",
    "gr()\n",
    "# plotlyjs()"
   ]
  },
  {
   "cell_type": "code",
   "execution_count": 3,
   "metadata": {},
   "outputs": [
    {
     "name": "stdout",
     "output_type": "stream",
     "text": [
      "Dict{String,Any}(\"volume\" => 400.0,\"evolveTime\" => 300,\"speed\" => 0.03,\"radius\" => 0.08,\"bounds\" => ((0.0, 20.0), (0.0, 20.0)),\"bperiod\" => [20.0, 20.0],\"n0\" => 50)\n",
      "Dict{String,Real}(\"k\" => 2000,\"ρ\" => 0.06)\n"
     ]
    }
   ],
   "source": [
    "function extendParams!(arenaParams::Dict)\n",
    "    bounds = arenaParams[\"bounds\"]\n",
    "    arenaParams[\"volume\"] = abs(bounds[1][2]-bounds[1][1])*abs(bounds[2][2]-bounds[2][1])\n",
    "    arenaParams[\"bperiod\"] = [abs(bounds[1][2]-bounds[1][1]), abs(bounds[2][2]-bounds[2][1])]\n",
    "end\n",
    "\n",
    "arenaParams = \n",
    "    Dict(\n",
    "        \"n0\"=>50,\n",
    "        \"evolveTime\"=>300,\n",
    "        \"bounds\"=>((0.,20.),(0.,20.)), \n",
    "        \"radius\"=>0.08, \n",
    "        \"speed\"=>0.03\n",
    "    )\n",
    "\n",
    "growthParams =\n",
    "    Dict(\n",
    "        \"ρ\"=> 0.06,\n",
    "        \"k\"=> 2000\n",
    "    )\n",
    "\n",
    "extendParams!(arenaParams)\n",
    "\n",
    "println(arenaParams)\n",
    "println(growthParams)"
   ]
  },
  {
   "cell_type": "markdown",
   "metadata": {},
   "source": [
    "### Logistic Growth\n",
    "\n",
    "The number of cells in the system increases according to the logistic growth function:\n",
    "\\begin{equation}\n",
    "n(t) = \\frac{k}{ 1 + \\frac{k-n_0}{n_0}e^{-\\rho t}}\n",
    "\\end{equation}\n"
   ]
  },
  {
   "cell_type": "code",
   "execution_count": 4,
   "metadata": {},
   "outputs": [
    {
     "data": {
      "image/svg+xml": [
       "<?xml version=\"1.0\" encoding=\"utf-8\"?>\n",
       "<svg xmlns=\"http://www.w3.org/2000/svg\" xmlns:xlink=\"http://www.w3.org/1999/xlink\" width=\"600\" height=\"400\" viewBox=\"0 0 2400 1600\">\n",
       "<defs>\n",
       "  <clipPath id=\"clip7200\">\n",
       "    <rect x=\"0\" y=\"0\" width=\"2400\" height=\"1600\"/>\n",
       "  </clipPath>\n",
       "</defs>\n",
       "<path clip-path=\"url(#clip7200)\" d=\"\n",
       "M0 1600 L2400 1600 L2400 0 L0 0  Z\n",
       "  \" fill=\"#ffffff\" fill-rule=\"evenodd\" fill-opacity=\"1\"/>\n",
       "<defs>\n",
       "  <clipPath id=\"clip7201\">\n",
       "    <rect x=\"480\" y=\"0\" width=\"1681\" height=\"1600\"/>\n",
       "  </clipPath>\n",
       "</defs>\n",
       "<path clip-path=\"url(#clip7200)\" d=\"\n",
       "M255.898 1425.62 L2352.76 1425.62 L2352.76 47.2441 L255.898 47.2441  Z\n",
       "  \" fill=\"#ffffff\" fill-rule=\"evenodd\" fill-opacity=\"1\"/>\n",
       "<defs>\n",
       "  <clipPath id=\"clip7202\">\n",
       "    <rect x=\"255\" y=\"47\" width=\"2098\" height=\"1379\"/>\n",
       "  </clipPath>\n",
       "</defs>\n",
       "<polyline clip-path=\"url(#clip7202)\" style=\"stroke:#000000; stroke-width:2; stroke-opacity:0.1; fill:none\" points=\"\n",
       "  307.33,1425.62 307.33,47.2441 \n",
       "  \"/>\n",
       "<polyline clip-path=\"url(#clip7202)\" style=\"stroke:#000000; stroke-width:2; stroke-opacity:0.1; fill:none\" points=\"\n",
       "  702.964,1425.62 702.964,47.2441 \n",
       "  \"/>\n",
       "<polyline clip-path=\"url(#clip7202)\" style=\"stroke:#000000; stroke-width:2; stroke-opacity:0.1; fill:none\" points=\"\n",
       "  1098.6,1425.62 1098.6,47.2441 \n",
       "  \"/>\n",
       "<polyline clip-path=\"url(#clip7202)\" style=\"stroke:#000000; stroke-width:2; stroke-opacity:0.1; fill:none\" points=\"\n",
       "  1494.23,1425.62 1494.23,47.2441 \n",
       "  \"/>\n",
       "<polyline clip-path=\"url(#clip7202)\" style=\"stroke:#000000; stroke-width:2; stroke-opacity:0.1; fill:none\" points=\"\n",
       "  1889.86,1425.62 1889.86,47.2441 \n",
       "  \"/>\n",
       "<polyline clip-path=\"url(#clip7202)\" style=\"stroke:#000000; stroke-width:2; stroke-opacity:0.1; fill:none\" points=\"\n",
       "  2285.5,1425.62 2285.5,47.2441 \n",
       "  \"/>\n",
       "<polyline clip-path=\"url(#clip7202)\" style=\"stroke:#000000; stroke-width:2; stroke-opacity:0.1; fill:none\" points=\"\n",
       "  255.898,1419.95 2352.76,1419.95 \n",
       "  \"/>\n",
       "<polyline clip-path=\"url(#clip7202)\" style=\"stroke:#000000; stroke-width:2; stroke-opacity:0.1; fill:none\" points=\"\n",
       "  255.898,1086.52 2352.76,1086.52 \n",
       "  \"/>\n",
       "<polyline clip-path=\"url(#clip7202)\" style=\"stroke:#000000; stroke-width:2; stroke-opacity:0.1; fill:none\" points=\"\n",
       "  255.898,753.095 2352.76,753.095 \n",
       "  \"/>\n",
       "<polyline clip-path=\"url(#clip7202)\" style=\"stroke:#000000; stroke-width:2; stroke-opacity:0.1; fill:none\" points=\"\n",
       "  255.898,419.667 2352.76,419.667 \n",
       "  \"/>\n",
       "<polyline clip-path=\"url(#clip7202)\" style=\"stroke:#000000; stroke-width:2; stroke-opacity:0.1; fill:none\" points=\"\n",
       "  255.898,86.2388 2352.76,86.2388 \n",
       "  \"/>\n",
       "<polyline clip-path=\"url(#clip7200)\" style=\"stroke:#000000; stroke-width:4; stroke-opacity:1; fill:none\" points=\"\n",
       "  255.898,1425.62 2352.76,1425.62 \n",
       "  \"/>\n",
       "<polyline clip-path=\"url(#clip7200)\" style=\"stroke:#000000; stroke-width:4; stroke-opacity:1; fill:none\" points=\"\n",
       "  255.898,1425.62 255.898,47.2441 \n",
       "  \"/>\n",
       "<polyline clip-path=\"url(#clip7200)\" style=\"stroke:#000000; stroke-width:4; stroke-opacity:1; fill:none\" points=\"\n",
       "  307.33,1425.62 307.33,1409.08 \n",
       "  \"/>\n",
       "<polyline clip-path=\"url(#clip7200)\" style=\"stroke:#000000; stroke-width:4; stroke-opacity:1; fill:none\" points=\"\n",
       "  702.964,1425.62 702.964,1409.08 \n",
       "  \"/>\n",
       "<polyline clip-path=\"url(#clip7200)\" style=\"stroke:#000000; stroke-width:4; stroke-opacity:1; fill:none\" points=\"\n",
       "  1098.6,1425.62 1098.6,1409.08 \n",
       "  \"/>\n",
       "<polyline clip-path=\"url(#clip7200)\" style=\"stroke:#000000; stroke-width:4; stroke-opacity:1; fill:none\" points=\"\n",
       "  1494.23,1425.62 1494.23,1409.08 \n",
       "  \"/>\n",
       "<polyline clip-path=\"url(#clip7200)\" style=\"stroke:#000000; stroke-width:4; stroke-opacity:1; fill:none\" points=\"\n",
       "  1889.86,1425.62 1889.86,1409.08 \n",
       "  \"/>\n",
       "<polyline clip-path=\"url(#clip7200)\" style=\"stroke:#000000; stroke-width:4; stroke-opacity:1; fill:none\" points=\"\n",
       "  2285.5,1425.62 2285.5,1409.08 \n",
       "  \"/>\n",
       "<polyline clip-path=\"url(#clip7200)\" style=\"stroke:#000000; stroke-width:4; stroke-opacity:1; fill:none\" points=\"\n",
       "  255.898,1419.95 281.06,1419.95 \n",
       "  \"/>\n",
       "<polyline clip-path=\"url(#clip7200)\" style=\"stroke:#000000; stroke-width:4; stroke-opacity:1; fill:none\" points=\"\n",
       "  255.898,1086.52 281.06,1086.52 \n",
       "  \"/>\n",
       "<polyline clip-path=\"url(#clip7200)\" style=\"stroke:#000000; stroke-width:4; stroke-opacity:1; fill:none\" points=\"\n",
       "  255.898,753.095 281.06,753.095 \n",
       "  \"/>\n",
       "<polyline clip-path=\"url(#clip7200)\" style=\"stroke:#000000; stroke-width:4; stroke-opacity:1; fill:none\" points=\"\n",
       "  255.898,419.667 281.06,419.667 \n",
       "  \"/>\n",
       "<polyline clip-path=\"url(#clip7200)\" style=\"stroke:#000000; stroke-width:4; stroke-opacity:1; fill:none\" points=\"\n",
       "  255.898,86.2388 281.06,86.2388 \n",
       "  \"/>\n",
       "<g clip-path=\"url(#clip7200)\">\n",
       "<text style=\"fill:#000000; fill-opacity:1; font-family:Arial,Helvetica Neue,Helvetica,sans-serif; font-size:48px; text-anchor:middle;\" transform=\"rotate(0, 307.33, 1479.62)\" x=\"307.33\" y=\"1479.62\">0</text>\n",
       "</g>\n",
       "<g clip-path=\"url(#clip7200)\">\n",
       "<text style=\"fill:#000000; fill-opacity:1; font-family:Arial,Helvetica Neue,Helvetica,sans-serif; font-size:48px; text-anchor:middle;\" transform=\"rotate(0, 702.964, 1479.62)\" x=\"702.964\" y=\"1479.62\">50</text>\n",
       "</g>\n",
       "<g clip-path=\"url(#clip7200)\">\n",
       "<text style=\"fill:#000000; fill-opacity:1; font-family:Arial,Helvetica Neue,Helvetica,sans-serif; font-size:48px; text-anchor:middle;\" transform=\"rotate(0, 1098.6, 1479.62)\" x=\"1098.6\" y=\"1479.62\">100</text>\n",
       "</g>\n",
       "<g clip-path=\"url(#clip7200)\">\n",
       "<text style=\"fill:#000000; fill-opacity:1; font-family:Arial,Helvetica Neue,Helvetica,sans-serif; font-size:48px; text-anchor:middle;\" transform=\"rotate(0, 1494.23, 1479.62)\" x=\"1494.23\" y=\"1479.62\">150</text>\n",
       "</g>\n",
       "<g clip-path=\"url(#clip7200)\">\n",
       "<text style=\"fill:#000000; fill-opacity:1; font-family:Arial,Helvetica Neue,Helvetica,sans-serif; font-size:48px; text-anchor:middle;\" transform=\"rotate(0, 1889.86, 1479.62)\" x=\"1889.86\" y=\"1479.62\">200</text>\n",
       "</g>\n",
       "<g clip-path=\"url(#clip7200)\">\n",
       "<text style=\"fill:#000000; fill-opacity:1; font-family:Arial,Helvetica Neue,Helvetica,sans-serif; font-size:48px; text-anchor:middle;\" transform=\"rotate(0, 2285.5, 1479.62)\" x=\"2285.5\" y=\"1479.62\">250</text>\n",
       "</g>\n",
       "<g clip-path=\"url(#clip7200)\">\n",
       "<text style=\"fill:#000000; fill-opacity:1; font-family:Arial,Helvetica Neue,Helvetica,sans-serif; font-size:48px; text-anchor:end;\" transform=\"rotate(0, 231.898, 1437.45)\" x=\"231.898\" y=\"1437.45\">0</text>\n",
       "</g>\n",
       "<g clip-path=\"url(#clip7200)\">\n",
       "<text style=\"fill:#000000; fill-opacity:1; font-family:Arial,Helvetica Neue,Helvetica,sans-serif; font-size:48px; text-anchor:end;\" transform=\"rotate(0, 231.898, 1104.02)\" x=\"231.898\" y=\"1104.02\">500</text>\n",
       "</g>\n",
       "<g clip-path=\"url(#clip7200)\">\n",
       "<text style=\"fill:#000000; fill-opacity:1; font-family:Arial,Helvetica Neue,Helvetica,sans-serif; font-size:48px; text-anchor:end;\" transform=\"rotate(0, 231.898, 770.595)\" x=\"231.898\" y=\"770.595\">1000</text>\n",
       "</g>\n",
       "<g clip-path=\"url(#clip7200)\">\n",
       "<text style=\"fill:#000000; fill-opacity:1; font-family:Arial,Helvetica Neue,Helvetica,sans-serif; font-size:48px; text-anchor:end;\" transform=\"rotate(0, 231.898, 437.167)\" x=\"231.898\" y=\"437.167\">1500</text>\n",
       "</g>\n",
       "<g clip-path=\"url(#clip7200)\">\n",
       "<text style=\"fill:#000000; fill-opacity:1; font-family:Arial,Helvetica Neue,Helvetica,sans-serif; font-size:48px; text-anchor:end;\" transform=\"rotate(0, 231.898, 103.739)\" x=\"231.898\" y=\"103.739\">2000</text>\n",
       "</g>\n",
       "<g clip-path=\"url(#clip7200)\">\n",
       "<text style=\"fill:#000000; fill-opacity:1; font-family:Arial,Helvetica Neue,Helvetica,sans-serif; font-size:66px; text-anchor:middle;\" transform=\"rotate(0, 1304.33, 1559.48)\" x=\"1304.33\" y=\"1559.48\">time</text>\n",
       "</g>\n",
       "<g clip-path=\"url(#clip7200)\">\n",
       "<text style=\"fill:#000000; fill-opacity:1; font-family:Arial,Helvetica Neue,Helvetica,sans-serif; font-size:66px; text-anchor:middle;\" transform=\"rotate(-90, 89.2861, 736.431)\" x=\"89.2861\" y=\"736.431\">expected number of cells</text>\n",
       "</g>\n",
       "<polyline clip-path=\"url(#clip7202)\" style=\"stroke:#009af9; stroke-width:4; stroke-opacity:1; fill:none\" points=\"\n",
       "  315.243,1386.61 323.155,1384.6 331.068,1382.48 338.981,1380.23 346.893,1377.85 354.806,1375.33 362.719,1372.67 370.631,1369.86 378.544,1366.88 386.457,1363.74 \n",
       "  394.369,1360.42 402.282,1356.91 410.195,1353.21 418.107,1349.3 426.02,1345.18 433.933,1340.83 441.845,1336.24 449.758,1331.41 457.671,1326.32 465.583,1320.96 \n",
       "  473.496,1315.32 481.409,1309.38 489.321,1303.15 497.234,1296.59 505.147,1289.71 513.059,1282.48 520.972,1274.91 528.885,1266.97 536.797,1258.65 544.71,1249.95 \n",
       "  552.623,1240.85 560.536,1231.34 568.448,1221.41 576.361,1211.06 584.274,1200.27 592.186,1189.04 600.099,1177.36 608.012,1165.22 615.924,1152.62 623.837,1139.57 \n",
       "  631.75,1126.05 639.662,1112.07 647.575,1097.64 655.488,1082.74 663.4,1067.41 671.313,1051.63 679.226,1035.42 687.138,1018.79 695.051,1001.76 702.964,984.348 \n",
       "  710.876,966.569 718.789,948.445 726.702,929.999 734.614,911.258 742.527,892.248 750.44,872.999 758.352,853.541 766.265,833.906 774.178,814.128 782.09,794.241 \n",
       "  790.003,774.281 797.916,754.282 805.828,734.282 813.741,714.315 821.654,694.417 829.566,674.625 837.479,654.971 845.392,635.491 853.304,616.215 861.217,597.175 \n",
       "  869.13,578.401 877.042,559.919 884.955,541.755 892.868,523.933 900.78,506.475 908.693,489.401 916.606,472.726 924.518,456.466 932.431,440.635 940.344,425.243 \n",
       "  948.256,410.297 956.169,395.806 964.082,381.773 971.994,368.201 979.907,355.091 987.82,342.442 995.733,330.251 1003.65,318.516 1011.56,307.23 1019.47,296.389 \n",
       "  1027.38,285.983 1035.3,276.006 1043.21,266.448 1051.12,257.3 1059.03,248.55 1066.95,240.189 1074.86,232.205 1082.77,224.586 1090.68,217.321 1098.6,210.398 \n",
       "  1106.51,203.805 1114.42,197.53 1122.34,191.561 1130.25,185.885 1138.16,180.493 1146.07,175.371 1153.99,170.508 1161.9,165.893 1169.81,161.517 1177.72,157.367 \n",
       "  1185.64,153.433 1193.55,149.706 1201.46,146.176 1209.37,142.834 1217.29,139.67 1225.2,136.676 1233.11,133.844 1241.03,131.165 1248.94,128.632 1256.85,126.237 \n",
       "  1264.76,123.974 1272.68,121.835 1280.59,119.814 1288.5,117.905 1296.41,116.102 1304.33,114.4 1312.24,112.793 1320.15,111.275 1328.06,109.843 1335.98,108.491 \n",
       "  1343.89,107.216 1351.8,106.012 1359.72,104.877 1367.63,103.806 1375.54,102.795 1383.45,101.843 1391.37,100.944 1399.28,100.096 1407.19,99.2973 1415.1,98.5439 \n",
       "  1423.02,97.8335 1430.93,97.1638 1438.84,96.5325 1446.75,95.9374 1454.67,95.3765 1462.58,94.8478 1470.49,94.3495 1478.41,93.8799 1486.32,93.4373 1494.23,93.0202 \n",
       "  1502.14,92.6272 1510.06,92.2568 1517.97,91.9078 1525.88,91.579 1533.79,91.2692 1541.71,90.9773 1549.62,90.7023 1557.53,90.4432 1565.44,90.199 1573.36,89.9691 \n",
       "  1581.27,89.7524 1589.18,89.5483 1597.1,89.356 1605.01,89.1749 1612.92,89.0042 1620.83,88.8435 1628.75,88.6921 1636.66,88.5495 1644.57,88.4151 1652.48,88.2886 \n",
       "  1660.4,88.1694 1668.31,88.0571 1676.22,87.9514 1684.14,87.8517 1692.05,87.7579 1699.96,87.6695 1707.87,87.5863 1715.79,87.5079 1723.7,87.4341 1731.61,87.3645 \n",
       "  1739.52,87.299 1747.44,87.2373 1755.35,87.1792 1763.26,87.1245 1771.17,87.0729 1779.09,87.0244 1787,86.9787 1794.91,86.9356 1802.83,86.895 1810.74,86.8568 \n",
       "  1818.65,86.8209 1826.56,86.787 1834.48,86.7551 1842.39,86.725 1850.3,86.6967 1858.21,86.67 1866.13,86.6449 1874.04,86.6213 1881.95,86.599 1889.86,86.578 \n",
       "  1897.78,86.5583 1905.69,86.5397 1913.6,86.5222 1921.52,86.5057 1929.43,86.4901 1937.34,86.4755 1945.25,86.4617 1953.17,86.4487 1961.08,86.4365 1968.99,86.425 \n",
       "  1976.9,86.4142 1984.82,86.4039 1992.73,86.3943 2000.64,86.3853 2008.55,86.3767 2016.47,86.3687 2024.38,86.3611 2032.29,86.354 2040.21,86.3473 2048.12,86.341 \n",
       "  2056.03,86.335 2063.94,86.3294 2071.86,86.3242 2079.77,86.3192 2087.68,86.3145 2095.59,86.3101 2103.51,86.3059 2111.42,86.302 2119.33,86.2983 2127.24,86.2949 \n",
       "  2135.16,86.2916 2143.07,86.2885 2150.98,86.2856 2158.9,86.2829 2166.81,86.2803 2174.72,86.2779 2182.63,86.2756 2190.55,86.2735 2198.46,86.2715 2206.37,86.2696 \n",
       "  2214.28,86.2678 2222.2,86.2661 2230.11,86.2645 2238.02,86.263 2245.93,86.2616 2253.85,86.2603 2261.76,86.259 2269.67,86.2578 2277.59,86.2567 2285.5,86.2557 \n",
       "  2293.41,86.2547 \n",
       "  \"/>\n",
       "<path clip-path=\"url(#clip7200)\" d=\"\n",
       "M1989.93 251.724 L2280.76 251.724 L2280.76 130.764 L1989.93 130.764  Z\n",
       "  \" fill=\"#ffffff\" fill-rule=\"evenodd\" fill-opacity=\"1\"/>\n",
       "<polyline clip-path=\"url(#clip7200)\" style=\"stroke:#000000; stroke-width:4; stroke-opacity:1; fill:none\" points=\"\n",
       "  1989.93,251.724 2280.76,251.724 2280.76,130.764 1989.93,130.764 1989.93,251.724 \n",
       "  \"/>\n",
       "<polyline clip-path=\"url(#clip7200)\" style=\"stroke:#009af9; stroke-width:4; stroke-opacity:1; fill:none\" points=\"\n",
       "  2013.93,191.244 2157.93,191.244 \n",
       "  \"/>\n",
       "<g clip-path=\"url(#clip7200)\">\n",
       "<text style=\"fill:#000000; fill-opacity:1; font-family:Arial,Helvetica Neue,Helvetica,sans-serif; font-size:48px; text-anchor:start;\" transform=\"rotate(0, 2181.93, 208.744)\" x=\"2181.93\" y=\"208.744\">y1</text>\n",
       "</g>\n",
       "</svg>\n"
      ]
     },
     "metadata": {},
     "output_type": "display_data"
    }
   ],
   "source": [
    "p = plot(Theorist.logisticGrowth.(0:250,growthParams[\"ρ\"], growthParams[\"k\"], arenaParams[\"n0\"]))\n",
    "xlabel!(\"time\")\n",
    "ylabel!(\"expected number of cells\")\n",
    "display(p)"
   ]
  },
  {
   "cell_type": "markdown",
   "metadata": {},
   "source": [
    "Run Langevin simulations:"
   ]
  },
  {
   "cell_type": "code",
   "execution_count": 5,
   "metadata": {},
   "outputs": [],
   "source": [
    "langevinEnsemble = Theorist.runLangevinSims(1000, arenaParams, growthParams);"
   ]
  },
  {
   "cell_type": "markdown",
   "metadata": {},
   "source": [
    "Run a particle simulation:"
   ]
  },
  {
   "cell_type": "code",
   "execution_count": 9,
   "metadata": {},
   "outputs": [
    {
     "name": "stderr",
     "output_type": "stream",
     "text": [
      "\u001b[32mProgress:  35%|██████████████▌                          |  ETA: 0:00:02\u001b[39m"
     ]
    },
    {
     "name": "stdout",
     "output_type": "stream",
     "text": [
      "anomalous collision time 1.0069755204621917 found in step time 1\n"
     ]
    },
    {
     "name": "stderr",
     "output_type": "stream",
     "text": [
      "\u001b[32mProgress:  49%|████████████████████                     |  ETA: 0:00:03\u001b[39m"
     ]
    },
    {
     "name": "stdout",
     "output_type": "stream",
     "text": [
      "anomalous collision time 5.245991572853841 found in step time 1\n",
      "anomalous collision time 9.251775550013912 found in step time 1\n",
      "anomalous collision time 2.6553519477411127 found in step time 1\n",
      "anomalous collision time 2.921332533860065 found in step time 1\n",
      "anomalous collision time 5.653381482069039 found in step time 1\n",
      "anomalous collision time 2.306737447118398 found in step time 1\n",
      "anomalous collision time 2.4355549458758614 found in step time 1\n",
      "anomalous collision time 6.8677877634063025 found in step time 1\n",
      "anomalous collision time 4.4589070688553125 found in step time 1\n",
      "anomalous collision time 6.867787763406317 found in step time 1\n",
      "anomalous collision time 4.4589070688553365 found in step time 1\n",
      "anomalous collision time 6.867787763406295 found in step time 1\n"
     ]
    },
    {
     "name": "stderr",
     "output_type": "stream",
     "text": [
      "\u001b[32mProgress:  49%|████████████████████▏                    |  ETA: 0:00:03\u001b[39m"
     ]
    },
    {
     "name": "stdout",
     "output_type": "stream",
     "text": [
      "anomalous collision time 11.606299232498813 found in step time 1\n",
      "anomalous collision time 13.685106083922918 found in step time 1\n",
      "anomalous collision time 1.0529193273654045 found in step time 1\n",
      "anomalous collision time 3.6638874547026625 found in step time 1\n"
     ]
    },
    {
     "name": "stderr",
     "output_type": "stream",
     "text": [
      "\u001b[32mProgress:  64%|██████████████████████████▏              |  ETA: 0:00:02\u001b[39m"
     ]
    },
    {
     "name": "stdout",
     "output_type": "stream",
     "text": [
      "anomalous collision time 1.4821787290884036 found in step time 1\n",
      "anomalous collision time 3.9078114045252996 found in step time 1\n",
      "anomalous collision time 2.3498507912601645 found in step time 1\n",
      "anomalous collision time 4.091937310103217 found in step time 1\n",
      "anomalous collision time 4.091937310103237 found in step time 1\n",
      "anomalous collision time 4.091937310103227 found in step time 1\n"
     ]
    },
    {
     "name": "stderr",
     "output_type": "stream",
     "text": [
      "\u001b[32mProgress:  94%|██████████████████████████████████████▌  |  ETA: 0:00:00\u001b[39m"
     ]
    },
    {
     "name": "stdout",
     "output_type": "stream",
     "text": [
      "anomalous collision time 1.0424889484327258 found in step time 1\n"
     ]
    },
    {
     "name": "stderr",
     "output_type": "stream",
     "text": [
      "\u001b[32mProgress: 100%|█████████████████████████████████████████| Time: 0:00:07\u001b[39m\n"
     ]
    }
   ],
   "source": [
    "arena, pos_t_dim_id, vel_t_dim_id, cells_T_ID = BParts.randArenaEvolve(arenaParams[\"n0\"], arenaParams[\"evolveTime\"], arenaParams, growthParams);"
   ]
  },
  {
   "cell_type": "markdown",
   "metadata": {},
   "source": [
    "### Mean squared displacement"
   ]
  },
  {
   "cell_type": "code",
   "execution_count": 10,
   "metadata": {},
   "outputs": [],
   "source": [
    "msdTime = arenaParams[\"evolveTime\"]\n",
    "timesMSD_t, msdLan_t = Theorist.msd(langevinEnsemble, arenaParams,  (0, msdTime-1), msdTime);\n",
    "msdPar_t = BParts.meanSquaredDisplacement(pos_t_dim_id[1:msdTime,:,:], arenaParams[\"bperiod\"]);"
   ]
  },
  {
   "cell_type": "code",
   "execution_count": 11,
   "metadata": {},
   "outputs": [
    {
     "data": {
      "image/svg+xml": [
       "<?xml version=\"1.0\" encoding=\"utf-8\"?>\n",
       "<svg xmlns=\"http://www.w3.org/2000/svg\" xmlns:xlink=\"http://www.w3.org/1999/xlink\" width=\"600\" height=\"400\" viewBox=\"0 0 2400 1600\">\n",
       "<defs>\n",
       "  <clipPath id=\"clip8000\">\n",
       "    <rect x=\"0\" y=\"0\" width=\"2400\" height=\"1600\"/>\n",
       "  </clipPath>\n",
       "</defs>\n",
       "<path clip-path=\"url(#clip8000)\" d=\"\n",
       "M0 1600 L2400 1600 L2400 0 L0 0  Z\n",
       "  \" fill=\"#ffffff\" fill-rule=\"evenodd\" fill-opacity=\"1\"/>\n",
       "<defs>\n",
       "  <clipPath id=\"clip8001\">\n",
       "    <rect x=\"480\" y=\"0\" width=\"1681\" height=\"1600\"/>\n",
       "  </clipPath>\n",
       "</defs>\n",
       "<path clip-path=\"url(#clip8000)\" d=\"\n",
       "M140.517 1487.47 L2352.76 1487.47 L2352.76 47.2441 L140.517 47.2441  Z\n",
       "  \" fill=\"#ffffff\" fill-rule=\"evenodd\" fill-opacity=\"1\"/>\n",
       "<defs>\n",
       "  <clipPath id=\"clip8002\">\n",
       "    <rect x=\"140\" y=\"47\" width=\"2213\" height=\"1441\"/>\n",
       "  </clipPath>\n",
       "</defs>\n",
       "<polyline clip-path=\"url(#clip8002)\" style=\"stroke:#000000; stroke-width:2; stroke-opacity:0.1; fill:none\" points=\"\n",
       "  203.127,1487.47 203.127,47.2441 \n",
       "  \"/>\n",
       "<polyline clip-path=\"url(#clip8002)\" style=\"stroke:#000000; stroke-width:2; stroke-opacity:0.1; fill:none\" points=\"\n",
       "  901.127,1487.47 901.127,47.2441 \n",
       "  \"/>\n",
       "<polyline clip-path=\"url(#clip8002)\" style=\"stroke:#000000; stroke-width:2; stroke-opacity:0.1; fill:none\" points=\"\n",
       "  1599.13,1487.47 1599.13,47.2441 \n",
       "  \"/>\n",
       "<polyline clip-path=\"url(#clip8002)\" style=\"stroke:#000000; stroke-width:2; stroke-opacity:0.1; fill:none\" points=\"\n",
       "  2297.13,1487.47 2297.13,47.2441 \n",
       "  \"/>\n",
       "<polyline clip-path=\"url(#clip8002)\" style=\"stroke:#000000; stroke-width:2; stroke-opacity:0.1; fill:none\" points=\"\n",
       "  140.517,1446.71 2352.76,1446.71 \n",
       "  \"/>\n",
       "<polyline clip-path=\"url(#clip8002)\" style=\"stroke:#000000; stroke-width:2; stroke-opacity:0.1; fill:none\" points=\"\n",
       "  140.517,1233.94 2352.76,1233.94 \n",
       "  \"/>\n",
       "<polyline clip-path=\"url(#clip8002)\" style=\"stroke:#000000; stroke-width:2; stroke-opacity:0.1; fill:none\" points=\"\n",
       "  140.517,1021.18 2352.76,1021.18 \n",
       "  \"/>\n",
       "<polyline clip-path=\"url(#clip8002)\" style=\"stroke:#000000; stroke-width:2; stroke-opacity:0.1; fill:none\" points=\"\n",
       "  140.517,808.407 2352.76,808.407 \n",
       "  \"/>\n",
       "<polyline clip-path=\"url(#clip8002)\" style=\"stroke:#000000; stroke-width:2; stroke-opacity:0.1; fill:none\" points=\"\n",
       "  140.517,595.638 2352.76,595.638 \n",
       "  \"/>\n",
       "<polyline clip-path=\"url(#clip8002)\" style=\"stroke:#000000; stroke-width:2; stroke-opacity:0.1; fill:none\" points=\"\n",
       "  140.517,382.869 2352.76,382.869 \n",
       "  \"/>\n",
       "<polyline clip-path=\"url(#clip8002)\" style=\"stroke:#000000; stroke-width:2; stroke-opacity:0.1; fill:none\" points=\"\n",
       "  140.517,382.869 2352.76,382.869 \n",
       "  \"/>\n",
       "<polyline clip-path=\"url(#clip8000)\" style=\"stroke:#000000; stroke-width:4; stroke-opacity:1; fill:none\" points=\"\n",
       "  140.517,1487.47 2352.76,1487.47 \n",
       "  \"/>\n",
       "<polyline clip-path=\"url(#clip8000)\" style=\"stroke:#000000; stroke-width:4; stroke-opacity:1; fill:none\" points=\"\n",
       "  140.517,1487.47 140.517,47.2441 \n",
       "  \"/>\n",
       "<polyline clip-path=\"url(#clip8000)\" style=\"stroke:#000000; stroke-width:4; stroke-opacity:1; fill:none\" points=\"\n",
       "  203.127,1487.47 203.127,1470.19 \n",
       "  \"/>\n",
       "<polyline clip-path=\"url(#clip8000)\" style=\"stroke:#000000; stroke-width:4; stroke-opacity:1; fill:none\" points=\"\n",
       "  901.127,1487.47 901.127,1470.19 \n",
       "  \"/>\n",
       "<polyline clip-path=\"url(#clip8000)\" style=\"stroke:#000000; stroke-width:4; stroke-opacity:1; fill:none\" points=\"\n",
       "  1599.13,1487.47 1599.13,1470.19 \n",
       "  \"/>\n",
       "<polyline clip-path=\"url(#clip8000)\" style=\"stroke:#000000; stroke-width:4; stroke-opacity:1; fill:none\" points=\"\n",
       "  2297.13,1487.47 2297.13,1470.19 \n",
       "  \"/>\n",
       "<polyline clip-path=\"url(#clip8000)\" style=\"stroke:#000000; stroke-width:4; stroke-opacity:1; fill:none\" points=\"\n",
       "  140.517,1446.71 167.064,1446.71 \n",
       "  \"/>\n",
       "<polyline clip-path=\"url(#clip8000)\" style=\"stroke:#000000; stroke-width:4; stroke-opacity:1; fill:none\" points=\"\n",
       "  140.517,1233.94 167.064,1233.94 \n",
       "  \"/>\n",
       "<polyline clip-path=\"url(#clip8000)\" style=\"stroke:#000000; stroke-width:4; stroke-opacity:1; fill:none\" points=\"\n",
       "  140.517,1021.18 167.064,1021.18 \n",
       "  \"/>\n",
       "<polyline clip-path=\"url(#clip8000)\" style=\"stroke:#000000; stroke-width:4; stroke-opacity:1; fill:none\" points=\"\n",
       "  140.517,808.407 167.064,808.407 \n",
       "  \"/>\n",
       "<polyline clip-path=\"url(#clip8000)\" style=\"stroke:#000000; stroke-width:4; stroke-opacity:1; fill:none\" points=\"\n",
       "  140.517,595.638 167.064,595.638 \n",
       "  \"/>\n",
       "<polyline clip-path=\"url(#clip8000)\" style=\"stroke:#000000; stroke-width:4; stroke-opacity:1; fill:none\" points=\"\n",
       "  140.517,382.869 167.064,382.869 \n",
       "  \"/>\n",
       "<polyline clip-path=\"url(#clip8000)\" style=\"stroke:#000000; stroke-width:4; stroke-opacity:1; fill:none\" points=\"\n",
       "  140.517,382.869 167.064,382.869 \n",
       "  \"/>\n",
       "<g clip-path=\"url(#clip8000)\">\n",
       "<text style=\"fill:#000000; fill-opacity:1; font-family:Arial,Helvetica Neue,Helvetica,sans-serif; font-size:48px; text-anchor:middle;\" transform=\"rotate(0, 203.127, 1541.47)\" x=\"203.127\" y=\"1541.47\">0</text>\n",
       "</g>\n",
       "<g clip-path=\"url(#clip8000)\">\n",
       "<text style=\"fill:#000000; fill-opacity:1; font-family:Arial,Helvetica Neue,Helvetica,sans-serif; font-size:48px; text-anchor:middle;\" transform=\"rotate(0, 901.127, 1541.47)\" x=\"901.127\" y=\"1541.47\">100</text>\n",
       "</g>\n",
       "<g clip-path=\"url(#clip8000)\">\n",
       "<text style=\"fill:#000000; fill-opacity:1; font-family:Arial,Helvetica Neue,Helvetica,sans-serif; font-size:48px; text-anchor:middle;\" transform=\"rotate(0, 1599.13, 1541.47)\" x=\"1599.13\" y=\"1541.47\">200</text>\n",
       "</g>\n",
       "<g clip-path=\"url(#clip8000)\">\n",
       "<text style=\"fill:#000000; fill-opacity:1; font-family:Arial,Helvetica Neue,Helvetica,sans-serif; font-size:48px; text-anchor:middle;\" transform=\"rotate(0, 2297.13, 1541.47)\" x=\"2297.13\" y=\"1541.47\">300</text>\n",
       "</g>\n",
       "<g clip-path=\"url(#clip8000)\">\n",
       "<text style=\"fill:#000000; fill-opacity:1; font-family:Arial,Helvetica Neue,Helvetica,sans-serif; font-size:48px; text-anchor:end;\" transform=\"rotate(0, 116.517, 1464.21)\" x=\"116.517\" y=\"1464.21\">0</text>\n",
       "</g>\n",
       "<g clip-path=\"url(#clip8000)\">\n",
       "<text style=\"fill:#000000; fill-opacity:1; font-family:Arial,Helvetica Neue,Helvetica,sans-serif; font-size:48px; text-anchor:end;\" transform=\"rotate(0, 116.517, 1251.44)\" x=\"116.517\" y=\"1251.44\">2</text>\n",
       "</g>\n",
       "<g clip-path=\"url(#clip8000)\">\n",
       "<text style=\"fill:#000000; fill-opacity:1; font-family:Arial,Helvetica Neue,Helvetica,sans-serif; font-size:48px; text-anchor:end;\" transform=\"rotate(0, 116.517, 1038.68)\" x=\"116.517\" y=\"1038.68\">4</text>\n",
       "</g>\n",
       "<g clip-path=\"url(#clip8000)\">\n",
       "<text style=\"fill:#000000; fill-opacity:1; font-family:Arial,Helvetica Neue,Helvetica,sans-serif; font-size:48px; text-anchor:end;\" transform=\"rotate(0, 116.517, 825.907)\" x=\"116.517\" y=\"825.907\">6</text>\n",
       "</g>\n",
       "<g clip-path=\"url(#clip8000)\">\n",
       "<text style=\"fill:#000000; fill-opacity:1; font-family:Arial,Helvetica Neue,Helvetica,sans-serif; font-size:48px; text-anchor:end;\" transform=\"rotate(0, 116.517, 613.138)\" x=\"116.517\" y=\"613.138\">8</text>\n",
       "</g>\n",
       "<g clip-path=\"url(#clip8000)\">\n",
       "<text style=\"fill:#000000; fill-opacity:1; font-family:Arial,Helvetica Neue,Helvetica,sans-serif; font-size:48px; text-anchor:end;\" transform=\"rotate(0, 116.517, 400.369)\" x=\"116.517\" y=\"400.369\">10</text>\n",
       "</g>\n",
       "<g clip-path=\"url(#clip8000)\">\n",
       "<text style=\"fill:#000000; fill-opacity:1; font-family:Arial,Helvetica Neue,Helvetica,sans-serif; font-size:48px; text-anchor:end;\" transform=\"rotate(0, 116.517, 400.369)\" x=\"116.517\" y=\"400.369\">10</text>\n",
       "</g>\n",
       "<polyline clip-path=\"url(#clip8002)\" style=\"stroke:#009af9; stroke-width:4; stroke-opacity:1; fill:none\" points=\"\n",
       "  203.127,1446.71 210.107,1446.59 217.087,1446.24 224.067,1445.64 231.047,1444.81 238.027,1443.75 245.007,1442.45 251.987,1440.92 258.967,1439.16 265.947,1437.17 \n",
       "  272.927,1434.94 279.907,1432.49 286.887,1429.81 293.867,1426.91 300.847,1423.8 307.827,1420.45 314.807,1416.89 321.787,1413.12 328.767,1409.14 335.747,1404.96 \n",
       "  342.727,1400.57 349.707,1395.96 356.687,1391.14 363.667,1386.11 370.647,1380.88 377.627,1375.46 384.607,1369.83 391.587,1363.99 398.567,1357.94 405.547,1351.7 \n",
       "  412.527,1345.28 419.507,1338.72 426.487,1332.01 433.467,1325.17 440.447,1318.19 447.427,1311.07 454.407,1303.79 461.387,1296.36 468.367,1288.79 475.347,1281.08 \n",
       "  482.327,1273.25 489.307,1265.33 496.287,1257.33 503.267,1249.26 510.247,1241.12 517.227,1232.9 524.207,1224.62 531.187,1216.28 538.167,1207.85 545.147,1199.34 \n",
       "  552.127,1190.75 559.107,1182.08 566.087,1173.35 573.067,1164.59 580.047,1155.8 587.027,1147.03 594.007,1138.26 600.987,1129.5 607.967,1120.74 614.947,1112 \n",
       "  621.927,1103.27 628.907,1094.55 635.887,1085.86 642.867,1077.25 649.847,1068.75 656.827,1060.38 663.807,1052.18 670.787,1044.14 677.767,1036.26 684.747,1028.51 \n",
       "  691.727,1020.9 698.707,1013.43 705.687,1006.06 712.667,998.771 719.647,991.519 726.627,984.302 733.607,977.143 740.587,970.047 747.567,963.041 754.547,956.174 \n",
       "  761.527,949.479 768.507,942.98 775.487,936.675 782.467,930.537 789.447,924.515 796.427,918.592 803.407,912.751 810.387,906.966 817.367,901.215 824.347,895.519 \n",
       "  831.327,889.894 838.307,884.346 845.287,878.835 852.267,873.317 859.247,867.792 866.227,862.252 873.207,856.695 880.187,851.107 887.167,845.473 894.147,839.853 \n",
       "  901.127,834.279 908.107,828.744 915.087,823.26 922.067,817.824 929.047,812.41 936.027,807.024 943.007,801.67 949.987,796.345 956.967,791.036 963.947,785.743 \n",
       "  970.927,780.476 977.907,775.214 984.887,769.929 991.867,764.608 998.847,759.258 1005.83,753.883 1012.81,748.507 1019.79,743.169 1026.77,737.878 1033.75,732.631 \n",
       "  1040.73,727.458 1047.71,722.399 1054.69,717.497 1061.67,712.754 1068.65,708.134 1075.63,703.603 1082.61,699.12 1089.59,694.679 1096.57,690.269 1103.55,685.885 \n",
       "  1110.53,681.538 1117.51,677.273 1124.49,673.09 1131.47,669 1138.45,665.036 1145.43,661.211 1152.41,657.508 1159.39,653.901 1166.37,650.407 1173.35,647.019 \n",
       "  1180.33,643.694 1187.31,640.434 1194.29,637.244 1201.27,634.119 1208.25,631.033 1215.23,627.961 1222.21,624.873 1229.19,621.78 1236.17,618.669 1243.15,615.529 \n",
       "  1250.13,612.383 1257.11,609.229 1264.09,606.04 1271.07,602.816 1278.05,599.551 1285.03,596.251 1292.01,592.927 1298.99,589.571 1305.97,586.168 1312.95,582.74 \n",
       "  1319.93,579.322 1326.91,575.908 1333.89,572.499 1340.87,569.097 1347.85,565.716 1354.83,562.37 1361.81,559.051 1368.79,555.752 1375.77,552.478 1382.75,549.217 \n",
       "  1389.73,545.965 1396.71,542.722 1403.69,539.503 1410.67,536.315 1417.65,533.178 1424.63,530.1 1431.61,527.062 1438.59,524.059 1445.57,521.07 1452.55,518.081 \n",
       "  1459.53,515.083 1466.51,512.057 1473.49,509.019 1480.47,505.94 1487.45,502.845 1494.43,499.759 1501.41,496.663 1508.39,493.548 1515.37,490.436 1522.35,487.351 \n",
       "  1529.33,484.309 1536.31,481.285 1543.29,478.268 1550.27,475.268 1557.25,472.275 1564.23,469.231 1571.21,466.115 1578.19,462.948 1585.17,459.707 1592.15,456.389 \n",
       "  1599.13,453.017 1606.11,449.593 1613.09,446.119 1620.07,442.588 1627.05,439.015 1634.03,435.451 1641.01,431.923 1647.99,428.409 1654.97,424.894 1661.95,421.366 \n",
       "  1668.93,417.809 1675.91,414.226 1682.89,410.605 1689.87,406.956 1696.85,403.267 1703.83,399.576 1710.81,395.917 1717.79,392.277 1724.77,388.653 1731.75,385.012 \n",
       "  1738.73,381.341 1745.71,377.644 1752.69,373.936 1759.67,370.207 1766.65,366.456 1773.63,362.651 1780.61,358.771 1787.59,354.817 1794.57,350.78 1801.55,346.737 \n",
       "  1808.53,342.69 1815.51,338.651 1822.49,334.625 1829.47,330.617 1836.45,326.66 1843.43,322.763 1850.41,318.916 1857.39,315.116 1864.37,311.352 1871.35,307.623 \n",
       "  1878.33,303.917 1885.31,300.228 1892.29,296.545 1899.27,292.841 1906.25,289.125 1913.23,285.389 1920.21,281.63 1927.19,277.817 1934.17,273.941 1941.15,269.996 \n",
       "  1948.13,265.975 1955.11,261.867 1962.09,257.709 1969.07,253.491 1976.05,249.232 1983.03,244.899 1990.01,240.503 1996.99,236.077 2003.97,231.661 2010.95,227.279 \n",
       "  2017.93,222.919 2024.91,218.612 2031.89,214.404 2038.87,210.283 2045.85,206.265 2052.83,202.344 2059.81,198.509 2066.79,194.764 2073.77,191.127 2080.75,187.613 \n",
       "  2087.73,184.194 2094.71,180.841 2101.69,177.542 2108.67,174.309 2115.65,171.11 2122.63,167.945 2129.61,164.837 2136.59,161.787 2143.57,158.772 2150.55,155.734 \n",
       "  2157.53,152.66 2164.51,149.529 2171.49,146.325 2178.47,143.047 2185.45,139.683 2192.43,136.238 2199.41,132.742 2206.39,129.221 2213.37,125.679 2220.35,122.102 \n",
       "  2227.33,118.508 2234.31,114.927 2241.29,111.386 2248.27,107.912 2255.25,104.483 2262.23,101.086 2269.21,97.7197 2276.19,94.3971 2283.17,91.1707 2290.15,88.0053 \n",
       "  \n",
       "  \"/>\n",
       "<polyline clip-path=\"url(#clip8002)\" style=\"stroke:#e26f46; stroke-width:4; stroke-opacity:1; fill:none\" points=\"\n",
       "  203.127,1446.71 210.107,1446.6 217.087,1446.25 224.067,1445.68 231.047,1444.87 238.027,1443.84 245.007,1442.57 251.987,1441.08 258.967,1439.35 265.947,1437.4 \n",
       "  272.927,1435.21 279.907,1432.8 286.887,1430.16 293.867,1427.28 300.847,1424.18 307.827,1420.84 314.807,1417.28 321.787,1413.48 328.767,1409.46 335.747,1405.2 \n",
       "  342.727,1400.72 349.707,1396 356.687,1391.06 363.667,1385.89 370.647,1380.74 377.627,1375.41 384.607,1369.85 391.587,1364.58 398.567,1359.14 405.547,1353.46 \n",
       "  412.527,1347.56 419.507,1341.42 426.487,1335.05 433.467,1328.45 440.447,1321.62 447.427,1314.56 454.407,1307.29 461.387,1299.79 468.367,1292.06 475.347,1284.17 \n",
       "  482.327,1276.13 489.307,1267.87 496.287,1259.38 503.267,1250.66 510.247,1242.45 517.227,1234.13 524.207,1225.59 531.187,1216.82 538.167,1208.12 545.147,1199.21 \n",
       "  552.127,1190.11 559.107,1180.8 566.087,1171.27 573.067,1161.84 580.047,1152.51 587.027,1143.05 594.007,1134.28 600.987,1125.69 607.967,1116.85 614.947,1107.72 \n",
       "  621.927,1098.32 628.907,1088.93 635.887,1079.51 642.867,1069.91 649.847,1060.25 656.827,1050.42 663.807,1040.83 670.787,1030.92 677.767,1020.22 684.747,1009.51 \n",
       "  691.727,999.412 698.707,989.102 705.687,979.001 712.667,968.799 719.647,959.085 726.627,949.104 733.607,938.964 740.587,929.01 747.567,919.255 754.547,909.444 \n",
       "  761.527,899.445 768.507,889.234 775.487,879.972 782.467,871.39 789.447,863.933 796.427,856.709 803.407,850.151 810.387,843.499 817.367,836.572 824.347,829.589 \n",
       "  831.327,822.715 838.307,815.689 845.287,808.417 852.267,801.501 859.247,795.268 866.227,789.618 873.207,785.25 880.187,781.491 887.167,776.97 894.147,772.089 \n",
       "  901.127,767.442 908.107,763.128 915.087,758.821 922.067,753.86 929.047,748.326 936.027,742.247 943.007,735.861 949.987,730.577 956.967,725.49 963.947,719.625 \n",
       "  970.927,713.239 977.907,707.324 984.887,701.882 991.867,695.907 998.847,689.527 1005.83,682.719 1012.81,675.818 1019.79,669.282 1026.77,662.458 1033.75,655.292 \n",
       "  1040.73,647.942 1047.71,639.762 1054.69,631.833 1061.67,623.474 1068.65,615.322 1075.63,607.216 1082.61,598.979 1089.59,591.531 1096.57,583.955 1103.55,576.999 \n",
       "  1110.53,571.246 1117.51,565.851 1124.49,560.503 1131.47,555.146 1138.45,549.421 1145.43,543.496 1152.41,537.937 1159.39,532.658 1166.37,526.687 1173.35,520.759 \n",
       "  1180.33,515.456 1187.31,510.018 1194.29,504.344 1201.27,501.585 1208.25,499.338 1215.23,497.499 1222.21,495.947 1229.19,494.52 1236.17,493.34 1243.15,492.907 \n",
       "  1250.13,492.228 1257.11,490.765 1264.09,488.864 1271.07,486.058 1278.05,483.013 1285.03,479.969 1292.01,477.56 1298.99,474.844 1305.97,471.963 1312.95,469.416 \n",
       "  1319.93,466.435 1326.91,463.335 1333.89,460.077 1340.87,457.126 1347.85,455.336 1354.83,453.544 1361.81,451.776 1368.79,449.007 1375.77,446.289 1382.75,444.429 \n",
       "  1389.73,441.981 1396.71,438.691 1403.69,435.64 1410.67,433.212 1417.65,431.666 1424.63,430.483 1431.61,428.537 1438.59,427.158 1445.57,425.439 1452.55,423.064 \n",
       "  1459.53,420.633 1466.51,418.353 1473.49,416.253 1480.47,414.261 1487.45,411.685 1494.43,408.243 1501.41,404.3 1508.39,400.115 1515.37,395.584 1522.35,391.012 \n",
       "  1529.33,386.152 1536.31,381.097 1543.29,376.037 1550.27,371.479 1557.25,367.134 1564.23,363.42 1571.21,360.034 1578.19,357.387 1585.17,354.875 1592.15,352.577 \n",
       "  1599.13,350.335 1606.11,347.567 1613.09,343.765 1620.07,339.313 1627.05,334.885 1634.03,331.918 1641.01,330.669 1647.99,328.949 1654.97,326.943 1661.95,325.611 \n",
       "  1668.93,326.058 1675.91,326.715 1682.89,328.272 1689.87,328.464 1696.85,328.377 1703.83,328.332 1710.81,327.035 1717.79,325.472 1724.77,325.054 1731.75,325.002 \n",
       "  1738.73,324.377 1745.71,323.565 1752.69,323.437 1759.67,323.168 1766.65,321.107 1773.63,318.599 1780.61,315.498 1787.59,311.676 1794.57,308.67 1801.55,307.97 \n",
       "  1808.53,307.291 1815.51,306.85 1822.49,305.949 1829.47,304.812 1836.45,303.931 1843.43,302.711 1850.41,301.287 1857.39,299.501 1864.37,297.977 1871.35,296.733 \n",
       "  1878.33,294.112 1885.31,290.9 1892.29,287.804 1899.27,284.596 1906.25,281 1913.23,278.138 1920.21,276.319 1927.19,275.411 1934.17,275.761 1941.15,275.759 \n",
       "  1948.13,274.279 1955.11,273.107 1962.09,271.605 1969.07,269.493 1976.05,268.412 1983.03,267.553 1990.01,266.551 1996.99,264.673 2003.97,262.344 2010.95,258.887 \n",
       "  2017.93,255.298 2024.91,252.799 2031.89,250.983 2038.87,249.781 2045.85,248.947 2052.83,247.77 2059.81,246.206 2066.79,244.325 2073.77,242.458 2080.75,240.656 \n",
       "  2087.73,238.19 2094.71,234.093 2101.69,230.103 2108.67,227.247 2115.65,224.615 2122.63,221.692 2129.61,218.135 2136.59,213.648 2143.57,208.51 2150.55,202.092 \n",
       "  2157.53,195.365 2164.51,188.861 2171.49,182.339 2178.47,177.377 2185.45,174.871 2192.43,172.213 2199.41,168.637 2206.39,163.989 2213.37,158.696 2220.35,152.94 \n",
       "  2227.33,147.251 2234.31,142.269 2241.29,137.761 2248.27,134.025 2255.25,129.6 2262.23,125.393 2269.21,121.33 2276.19,117.852 2283.17,114.402 2290.15,112.366 \n",
       "  \n",
       "  \"/>\n",
       "<path clip-path=\"url(#clip8000)\" d=\"\n",
       "M1615.4 1343.47 L2280.76 1343.47 L2280.76 1162.03 L1615.4 1162.03  Z\n",
       "  \" fill=\"#ffffff\" fill-rule=\"evenodd\" fill-opacity=\"1\"/>\n",
       "<polyline clip-path=\"url(#clip8000)\" style=\"stroke:#000000; stroke-width:4; stroke-opacity:1; fill:none\" points=\"\n",
       "  1615.4,1343.47 2280.76,1343.47 2280.76,1162.03 1615.4,1162.03 1615.4,1343.47 \n",
       "  \"/>\n",
       "<polyline clip-path=\"url(#clip8000)\" style=\"stroke:#009af9; stroke-width:4; stroke-opacity:1; fill:none\" points=\"\n",
       "  1639.4,1222.51 1783.4,1222.51 \n",
       "  \"/>\n",
       "<g clip-path=\"url(#clip8000)\">\n",
       "<text style=\"fill:#000000; fill-opacity:1; font-family:Arial,Helvetica Neue,Helvetica,sans-serif; font-size:48px; text-anchor:start;\" transform=\"rotate(0, 1807.4, 1240.01)\" x=\"1807.4\" y=\"1240.01\">Langevin simulation</text>\n",
       "</g>\n",
       "<polyline clip-path=\"url(#clip8000)\" style=\"stroke:#e26f46; stroke-width:4; stroke-opacity:1; fill:none\" points=\"\n",
       "  1639.4,1282.99 1783.4,1282.99 \n",
       "  \"/>\n",
       "<g clip-path=\"url(#clip8000)\">\n",
       "<text style=\"fill:#000000; fill-opacity:1; font-family:Arial,Helvetica Neue,Helvetica,sans-serif; font-size:48px; text-anchor:start;\" transform=\"rotate(0, 1807.4, 1300.49)\" x=\"1807.4\" y=\"1300.49\">particle simulation</text>\n",
       "</g>\n",
       "</svg>\n"
      ]
     },
     "metadata": {},
     "output_type": "display_data"
    }
   ],
   "source": [
    "p2 = plot(timesMSD_t, msdLan_t, label=\"Langevin simulation\", legend=:bottomright)\n",
    "plot!(timesMSD_t, msdPar_t, label=\"particle simulation\")\n",
    "display(p2)"
   ]
  },
  {
   "cell_type": "markdown",
   "metadata": {},
   "source": [
    "The particle simulation does not always exactly match the Langevin ensembles. This is likely due to the fact that currently cells are still added stochastically as a Poisson process. A deterministic version should be implemented to compare more directly."
   ]
  }
 ],
 "metadata": {
  "kernelspec": {
   "display_name": "Julia 1.2.0",
   "language": "julia",
   "name": "julia-1.2"
  },
  "language_info": {
   "file_extension": ".jl",
   "mimetype": "application/julia",
   "name": "julia",
   "version": "1.2.0"
  }
 },
 "nbformat": 4,
 "nbformat_minor": 4
}

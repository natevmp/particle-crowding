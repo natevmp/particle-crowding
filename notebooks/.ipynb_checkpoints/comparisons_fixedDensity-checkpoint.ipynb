{
 "cells": [
  {
   "cell_type": "markdown",
   "metadata": {},
   "source": [
    "# Particle simulation vs Langevin model"
   ]
  },
  {
   "cell_type": "code",
   "execution_count": 1,
   "metadata": {},
   "outputs": [],
   "source": [
    "include(\"../src/bmparticles.jl\")\n",
    "include(\"../src/bmtheory.jl\")\n",
    "using .BParts\n",
    "using .Theorist"
   ]
  },
  {
   "cell_type": "code",
   "execution_count": 2,
   "metadata": {},
   "outputs": [],
   "source": [
    "using DifferentialEquations, Distributions, LaTeXStrings"
   ]
  },
  {
   "cell_type": "code",
   "execution_count": 3,
   "metadata": {},
   "outputs": [
    {
     "data": {
      "text/plain": [
       "Plots.GRBackend()"
      ]
     },
     "execution_count": 3,
     "metadata": {},
     "output_type": "execute_result"
    }
   ],
   "source": [
    "using Plots\n",
    "# plotly()\n",
    "gr()\n"
   ]
  },
  {
   "cell_type": "markdown",
   "metadata": {},
   "source": [
    "## Fixed Density\n",
    "\n",
    "First we compare the particle simulation with the simulations of the Langevin equation (and some analytical results from it) for a fixed population size.\n",
    "\n",
    "When comparing the two we must take care to ensure both approaches are modeling the same system. In particular, a particle modeled by the Langevin equation has its future speed distribution initially determined by the energy of the system, as it is parameterized by $D/\\gamma$ (see equation (3) in document) which can be equated to the average energy per particle $\\left< E \\right>$ (4); however in the simulation particles are introduced into the system with a speed rather than an energy. If the simulation is initiated with all particles having the same speed -- which is convenient to ensure the system evolves to the predetermined equilibrium, as opposed to drawing their speeds from the desired distribution in which case the system energy becomes a random variable -- we must ensure the average energy matches that of the Langevin particle. We know that\n",
    "\\begin{equation}\n",
    "    \\left< E \\right> = \\frac{\\left< v^2 \\right>}{2}\n",
    "\\end{equation}\n",
    "thus using $\\left< v_0^2 \\right> = \\left< s_0^2 \\right> = s_0^2$ (since all particles have the same speed initially) we know that the initial particle speed and the average energy per particle are related through\n",
    "\\begin{align}\n",
    "    s_0 = \\sqrt{2\\left< E \\right>} \\\\\n",
    "    \\left< E \\right> = \\frac{s_0^2}{2}\n",
    "\\end{align}\n",
    "Note that as the system evolves the particle speeds should become distributed according to the Rayleigh distribution, and the average speed becomes\n",
    "\\begin{equation}\n",
    "    \\left< s \\right> = \\sqrt{E} \\sqrt{\\frac{\\pi}{2}}\n",
    "\\end{equation}"
   ]
  },
  {
   "cell_type": "markdown",
   "metadata": {},
   "source": [
    "### Parameters for simulation"
   ]
  },
  {
   "cell_type": "code",
   "execution_count": 4,
   "metadata": {},
   "outputs": [
    {
     "data": {
      "text/plain": [
       "extendParams! (generic function with 1 method)"
      ]
     },
     "execution_count": 4,
     "metadata": {},
     "output_type": "execute_result"
    }
   ],
   "source": [
    "function extendParams!(arenaParams::Dict)\n",
    "    bounds = arenaParams[\"bounds\"]\n",
    "    arenaParams[\"volume\"] = abs(bounds[1][2]-bounds[1][1])*abs(bounds[2][2]-bounds[2][1])\n",
    "    arenaParams[\"bperiod\"] = [abs(bounds[1][2]-bounds[1][1]), abs(bounds[2][2]-bounds[2][1])]\n",
    "end"
   ]
  },
  {
   "cell_type": "code",
   "execution_count": 5,
   "metadata": {},
   "outputs": [
    {
     "name": "stdout",
     "output_type": "stream",
     "text": [
      "Pair{String,Any}(\"volume\", 400.0)\n",
      "Pair{String,Any}(\"evolveTime\", 2000)\n",
      "Pair{String,Any}(\"speed\", 0.03)\n",
      "Pair{String,Any}(\"radius\", 0.08)\n",
      "Pair{String,Any}(\"bounds\", ((0.0, 20.0), (0.0, 20.0)))\n",
      "Pair{String,Any}(\"bperiod\", [20.0, 20.0])\n",
      "Pair{String,Any}(\"n0\", 1000)\n"
     ]
    }
   ],
   "source": [
    "arenaParams = \n",
    "    Dict(\n",
    "        \"n0\"=>1000,\n",
    "        \"evolveTime\"=> 2000,\n",
    "        \"bounds\"=>((0.,20.),(0.,20.)), \n",
    "        \"radius\"=>0.08, \n",
    "        \"speed\"=>0.03\n",
    "    )\n",
    "\n",
    "extendParams!(arenaParams)\n",
    "for p in arenaParams\n",
    "    println(p)\n",
    "end\n",
    "\n",
    "waitTime = 500\n",
    "\n",
    "display(arenaParams)"
   ]
  },
  {
   "cell_type": "code",
   "execution_count": 6,
   "metadata": {},
   "outputs": [
    {
     "data": {
      "text/plain": [
       "Dict{Any,Any} with 7 entries:\n",
       "  \"γ\"  => 0.0300795\n",
       "  \"ρ\"  => 0.0502655\n",
       "  \"σc\" => 0.32\n",
       "  \"D\"  => 1.35358e-5\n",
       "  \"l\"  => 0.883883\n",
       "  \"E\"  => 0.00045\n",
       "  \"n\"  => 2.5"
      ]
     },
     "execution_count": 6,
     "metadata": {},
     "output_type": "execute_result"
    }
   ],
   "source": [
    "thermVals = Theorist.thermalValues(arenaParams)\n"
   ]
  },
  {
   "cell_type": "markdown",
   "metadata": {},
   "source": [
    "### Simulations"
   ]
  },
  {
   "cell_type": "markdown",
   "metadata": {},
   "source": [
    "run a particle simulation:"
   ]
  },
  {
   "cell_type": "code",
   "execution_count": 7,
   "metadata": {},
   "outputs": [
    {
     "name": "stdout",
     "output_type": "stream",
     "text": [
      "anomalous collision time 1.3788739177065574 found in time step\n",
      "anomalous collision time 13.45841534431814 found in time step\n",
      "anomalous collision time 8.173083757009481 found in time step\n",
      "anomalous collision time 1.273347389848317 found in time step\n",
      "anomalous collision time 1.5574465882414659 found in time step\n",
      "anomalous collision time 8.977758253551427 found in time step\n",
      "anomalous collision time 23.972151435720843 found in time step\n"
     ]
    },
    {
     "name": "stderr",
     "output_type": "stream",
     "text": [
      "\u001b[32mProgress:  48%|███████████████████▋                     |  ETA: 0:00:14\u001b[39m"
     ]
    },
    {
     "name": "stdout",
     "output_type": "stream",
     "text": [
      "anomalous collision time 1.7681038454180569 found in time step\n",
      "anomalous collision time 2.4120105446508022 found in time step\n",
      "anomalous collision time 4.18135280931873 found in time step\n",
      "anomalous collision time 4.287657975414542 found in time step\n",
      "anomalous collision time 2.1710405007564972 found in time step\n",
      "anomalous collision time 1.1238449079594242 found in time step\n",
      "anomalous collision time 4.287657975414542 found in time step\n",
      "anomalous collision time 4.287657975414543 found in time step\n"
     ]
    },
    {
     "name": "stderr",
     "output_type": "stream",
     "text": [
      "\u001b[32mProgress:  62%|█████████████████████████▍               |  ETA: 0:00:10\u001b[39m"
     ]
    },
    {
     "name": "stdout",
     "output_type": "stream",
     "text": [
      "anomalous collision time 1.249018890896341 found in time step\n",
      "anomalous collision time 17.048554744454513 found in time step\n",
      "anomalous collision time 1.2776484604551532 found in time step\n",
      "anomalous collision time 1.1043812182255 found in time step\n",
      "anomalous collision time 2.3794973470130993 found in time step\n",
      "anomalous collision time 2.593506769145353 found in time step\n",
      "anomalous collision time 2.6613047049905814 found in time step\n",
      "anomalous collision time 1.4802048844342133 found in time step\n",
      "anomalous collision time 1.5584856756675916 found in time step\n",
      "anomalous collision time 1.7640786938778485 found in time step\n",
      "anomalous collision time 2.8962479333483224 found in time step\n",
      "anomalous collision time 1.1054460269658741 found in time step\n",
      "anomalous collision time 3.7210612101827683 found in time step\n",
      "anomalous collision time 10.358345682377008 found in time step\n",
      "anomalous collision time 1.3164929713015736 found in time step\n",
      "anomalous collision time 5.830011083949977 found in time step\n",
      "anomalous collision time 2.4504340940186196 found in time step\n",
      "anomalous collision time 3.1386891689033676 found in time step\n",
      "anomalous collision time 7.567237856332246 found in time step\n",
      "anomalous collision time 2.215768467293854 found in time step\n",
      "anomalous collision time 1.992886474742297 found in time step\n",
      "anomalous collision time 2.6143121942239675 found in time step\n",
      "anomalous collision time 2.449596203187959 found in time step\n",
      "anomalous collision time 2.6304828510099116 found in time step\n",
      "anomalous collision time 2.2754546166928136 found in time step\n",
      "anomalous collision time 3.7364271317453857 found in time step\n",
      "anomalous collision time 2.774840248758272 found in time step\n",
      "anomalous collision time 2.667119057999806 found in time step\n",
      "anomalous collision time 3.465364808644302 found in time step\n",
      "anomalous collision time 2.442223521983532 found in time step\n",
      "anomalous collision time 1.206412915558303 found in time step\n",
      "anomalous collision time 2.250217521272738 found in time step\n"
     ]
    },
    {
     "name": "stderr",
     "output_type": "stream",
     "text": [
      "\u001b[32mProgress:  66%|███████████████████████████▏             |  ETA: 0:00:09\u001b[39m"
     ]
    },
    {
     "name": "stdout",
     "output_type": "stream",
     "text": [
      "anomalous collision time 1.5821895582612353 found in time step\n",
      "anomalous collision time 2.6091282942433067 found in time step\n"
     ]
    },
    {
     "name": "stderr",
     "output_type": "stream",
     "text": [
      "\u001b[32mProgress:  76%|███████████████████████████████▎         |  ETA: 0:00:06\u001b[39m"
     ]
    },
    {
     "name": "stdout",
     "output_type": "stream",
     "text": [
      "anomalous collision time 1.0240197982652255 found in time step\n"
     ]
    },
    {
     "name": "stderr",
     "output_type": "stream",
     "text": [
      "\u001b[32mProgress: 100%|█████████████████████████████████████████| Time: 0:00:24\u001b[39m\n"
     ]
    },
    {
     "name": "stdout",
     "output_type": "stream",
     "text": [
      "energy per cell: 0.0004499999999999993\n"
     ]
    }
   ],
   "source": [
    "arena, pos_t_dim_id, vel_t_dim_id, cells_T_ID = \n",
    "    BParts.randArenaEvolve(arenaParams[\"n0\"], arenaParams[\"evolveTime\"], arenaParams);\n",
    "\n",
    "println(\"energy per cell: \",\n",
    "        BParts.kineticEnergy(arena) / arenaParams[\"n0\"]\n",
    "    )\n",
    "\n"
   ]
  },
  {
   "cell_type": "markdown",
   "metadata": {},
   "source": [
    "Run an ensemble of Langevin equations:"
   ]
  },
  {
   "cell_type": "code",
   "execution_count": 8,
   "metadata": {},
   "outputs": [
    {
     "name": "stdout",
     "output_type": "stream",
     "text": [
      "Energy: 0.00045\n",
      " 58.635176 seconds (1.05 G allocations: 24.172 GiB, 10.73% gc time)\n"
     ]
    }
   ],
   "source": [
    "@time langevinEnsemble = Theorist.runLangevinSims(5000, arenaParams);"
   ]
  },
  {
   "cell_type": "markdown",
   "metadata": {},
   "source": [
    "### Analysis"
   ]
  },
  {
   "cell_type": "markdown",
   "metadata": {},
   "source": [
    "Speed distributions:\n",
    "\n",
    "For a well mixed population the particle speeds are predicted to be Rayleigh distributed with shape parameter $\\sigma = \\sqrt{E}$ where $E$ is the average particle energie."
   ]
  },
  {
   "cell_type": "code",
   "execution_count": 9,
   "metadata": {},
   "outputs": [],
   "source": [
    "evolveTime = arenaParams[\"evolveTime\"]\n",
    "speedPar_t_id = BParts.speedCalc(vel_t_dim_id)\n",
    "speedLan_t_id = Theorist.speedCalc(langevinEnsemble, 1:evolveTime)\n",
    "rDistPred = Rayleigh( sqrt(thermVals[\"E\"]) );\n"
   ]
  },
  {
   "cell_type": "code",
   "execution_count": 10,
   "metadata": {},
   "outputs": [
    {
     "name": "stdout",
     "output_type": "stream",
     "text": [
      "0.026170992868627185\n",
      "0.026668717769050557\n",
      "0.02658680776358274\n"
     ]
    }
   ],
   "source": [
    "speedMeanPar = mean(speedPar_t_id[500:end,:])\n",
    "speedMeanLan = mean(speedLan_t_id)\n",
    "speedMeanTheory = √(thermVals[\"E\"])*sqrt(π/2)\n",
    "\n",
    "println(speedMeanLan)\n",
    "println(speedMeanPar)\n",
    "println(speedMeanTheory)"
   ]
  },
  {
   "cell_type": "code",
   "execution_count": null,
   "metadata": {},
   "outputs": [],
   "source": [
    "p1 =\n",
    "histogram(vec(speedPar_t_id[waitTime:end,:,:]), bins=100, normalize=true, label=\"particle simulation\", \n",
    "    size=(450,300), dpi=100)\n",
    "histogram!(vec(speedLan_t_id), bins=100, normalize=true, label=\"Langevin simulation\")\n",
    "plot!(range(0,0.10, length=100), pdf.(rDistPred, range(0,0.10, length=100)), \n",
    "    linestyle=:dash, linewidth=2, label=\"predicted\")\n",
    "xlabel!(\"speed\")\n",
    "ylabel!(\"distribution\")\n",
    "display(p1)\n",
    "\n",
    "# savefig(p1, \"../figures/fixedDensity_speedDist.png\")\n"
   ]
  },
  {
   "cell_type": "markdown",
   "metadata": {},
   "source": [
    "The velocity autocorrelation is expected to be described by\n",
    "\\begin{equation}\n",
    "    \\left< v(t)v(t+\\tau) \\right> = 2E e^{-\\gamma \\tau}\n",
    "\\end{equation}\n",
    "where $\\gamma$ is determined by the density through the mean free path $l$:\n",
    "\\begin{equation}\n",
    "    \\gamma = \\frac{\\sqrt{E}}{l} \\sqrt{ \\frac{\\pi}{2} }\n",
    "\\end{equation}\n",
    "which in turn is determined by the particle density $n$:\n",
    "\\begin{equation}\n",
    "    l = \\frac{1}{\\sqrt{2}\\sigma n}\n",
    "\\end{equation}\n",
    "As such this is a good test to check whether a test particle's movement can in fact be modeled by a density coupled Brownian motion."
   ]
  },
  {
   "cell_type": "code",
   "execution_count": null,
   "metadata": {},
   "outputs": [],
   "source": [
    "corrTime = 400\n",
    "timesCorr_t, vCorrLan_t = Theorist.velCorrelation(langevinEnsemble, (1,corrTime), steps=corrTime);\n",
    "vCorrPar_t = BParts.velocityAutocorrelation(vel_t_dim_id[waitTime:waitTime+corrTime, :, :]);\n",
    "vCorrPred_t = map( t->2*thermVals[\"E\"]*exp(-thermVals[\"γ\"]*t), 0:corrTime-1 );\n"
   ]
  },
  {
   "cell_type": "code",
   "execution_count": null,
   "metadata": {},
   "outputs": [],
   "source": [
    "p2 = plot(timesCorr_t, vCorrPar_t, label=\"particle simulation\", size=(450,300), dpi=100)\n",
    "plot!(timesCorr_t, vCorrLan_t, label=\"Langevin simulation\")\n",
    "plot!(timesCorr_t, vCorrPred_t, label=\"analytical prediction\")\n",
    "xlabel!(L\"\\tau\")\n",
    "ylabel!(L\"\\left< v(t)v(t+\\tau) \\right>\")\n",
    "display(p2)\n",
    "\n",
    "# savefig(p2, \"../Figures/fixedDensity_velautocorr.png\")\n"
   ]
  },
  {
   "cell_type": "markdown",
   "metadata": {},
   "source": [
    "Mean squared displacement:"
   ]
  },
  {
   "cell_type": "code",
   "execution_count": null,
   "metadata": {},
   "outputs": [],
   "source": [
    "msdTimes = (waitTime, 2000)\n",
    "timesMSD_t, msdLan_t = Theorist.msd(langevinEnsemble, arenaParams,  msdTimes);\n",
    "msdPar_t = BParts.meanSquaredDisplacement(pos_t_dim_id, msdTimes);\n"
   ]
  },
  {
   "cell_type": "code",
   "execution_count": null,
   "metadata": {},
   "outputs": [],
   "source": [
    "p2 = plot(timesMSD_t, msdPar_t, label=\"particle simulation\", linewidth=2, \n",
    "    legend=:bottomright, size=(400,300))\n",
    "plot!(timesMSD_t, msdLan_t, label=\"Langevin simulation\", linewidth=2, linestyle=:dash)\n",
    "xlabel!(\"t\")\n",
    "ylabel!(\"msd\")\n",
    "display(p2)\n",
    "\n",
    "savefig(p2, \"../Figures/fixedDensity_msd.pdf\")\n"
   ]
  },
  {
   "cell_type": "markdown",
   "metadata": {},
   "source": [
    "Note that the msd can become sublinear after a particular distance due to the periodic boundaries. The effect can be removed by increasing the arena size."
   ]
  }
 ],
 "metadata": {
  "kernelspec": {
   "display_name": "Julia 1.4.2",
   "language": "julia",
   "name": "julia-1.4"
  },
  "language_info": {
   "file_extension": ".jl",
   "mimetype": "application/julia",
   "name": "julia",
   "version": "1.4.2"
  }
 },
 "nbformat": 4,
 "nbformat_minor": 4
}

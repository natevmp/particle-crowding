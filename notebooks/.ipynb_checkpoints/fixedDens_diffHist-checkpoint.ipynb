{
 "cells": [
  {
   "cell_type": "code",
   "execution_count": 1,
   "metadata": {},
   "outputs": [],
   "source": [
    "using Revise"
   ]
  },
  {
   "cell_type": "code",
   "execution_count": null,
   "metadata": {},
   "outputs": [],
   "source": [
    "include(\"../src/bmparticles.jl\")\n",
    "include(\"../src/bmtheory.jl\")\n",
    "using .BParts\n",
    "using .Theorist"
   ]
  },
  {
   "cell_type": "code",
   "execution_count": null,
   "metadata": {},
   "outputs": [],
   "source": [
    "using DifferentialEquations, Distributions, LaTeXStrings, ProgressMeter, LsqFit"
   ]
  },
  {
   "cell_type": "code",
   "execution_count": null,
   "metadata": {},
   "outputs": [],
   "source": [
    "using Plots\n",
    "# plotly()\n",
    "gr()\n"
   ]
  },
  {
   "cell_type": "markdown",
   "metadata": {},
   "source": [
    "## Fixed Density\n",
    "\n",
    "First we compare the particle simulation with the simulations of the Langevin equation (and some analytical results from it) for a fixed population size.\n",
    "\n",
    "When comparing the two we must take care to ensure both approaches are modeling the same system. In particular, a particle modeled by the Langevin equation has its future speed distribution initially determined by the energy of the system, as it is parameterized by $D/\\gamma$ (see equation (3) in document) which can be equated to the average energy per particle $\\left< E \\right>$ (4); however in the simulation particles are introduced into the system with a speed rather than an energy. If the simulation is initiated with all particles having the same speed -- which is convenient to ensure the system evolves to the predetermined equilibrium, as opposed to drawing their speeds from the desired distribution in which case the system energy becomes a random variable -- we must ensure the average energy matches that of the Langevin particle. We know that\n",
    "\\begin{equation}\n",
    "    \\left< E \\right> = \\frac{\\left< v^2 \\right>}{2}\n",
    "\\end{equation}\n",
    "thus using $\\left< v_0^2 \\right> = \\left< s_0^2 \\right> = s_0^2$ (since all particles have the same speed initially) we know that the initial particle speed and the average energy per particle are related through\n",
    "\\begin{align}\n",
    "    s_0 = \\sqrt{2\\left< E \\right>} \\\\\n",
    "    \\left< E \\right> = \\frac{s_0^2}{2}\n",
    "\\end{align}\n",
    "Note that as the system evolves the particle speeds should become distributed according to the Rayleigh distribution, and the average speed becomes\n",
    "\\begin{equation}\n",
    "    \\left< s \\right> = \\sqrt{E} \\sqrt{\\frac{\\pi}{2}}\n",
    "\\end{equation}"
   ]
  },
  {
   "cell_type": "markdown",
   "metadata": {},
   "source": [
    "### Parameters for simulation"
   ]
  },
  {
   "cell_type": "code",
   "execution_count": null,
   "metadata": {},
   "outputs": [],
   "source": [
    "function extendParams!(arenaParams::Dict)\n",
    "    bounds = arenaParams[\"bounds\"]\n",
    "    arenaParams[\"volume\"] = abs(bounds[1][2]-bounds[1][1])*abs(bounds[2][2]-bounds[2][1])\n",
    "    arenaParams[\"bperiod\"] = [abs(bounds[1][2]-bounds[1][1]), abs(bounds[2][2]-bounds[2][1])]\n",
    "end"
   ]
  },
  {
   "cell_type": "code",
   "execution_count": null,
   "metadata": {},
   "outputs": [],
   "source": [
    "arenaParams = \n",
    "    Dict(\n",
    "        \"n0\"=>1000,\n",
    "        \"evolveTime\"=>3000,\n",
    "        \"timeStep\"=> 0.05,\n",
    "        \"bounds\"=>((0.,10.),(0.,10.)), \n",
    "        \"radius\"=>0.08, \n",
    "        \"speed\"=>0.02\n",
    "    )\n",
    "\n",
    "extendParams!(arenaParams)\n",
    "for p in arenaParams\n",
    "    println(p)\n",
    "end\n",
    "\n",
    "waitTime = 1500\n",
    "timeSteps = arenaParams[\"timeStep\"]:arenaParams[\"timeStep\"]:arenaParams[\"evolveTime\"]\n",
    "\n",
    "display(arenaParams)\n",
    "\n",
    "function fillDensity(arenaParams)  \n",
    "    xperiod = abs(arenaParams[\"bounds\"][1][2] - arenaParams[\"bounds\"][1][1])\n",
    "    yperiod = abs(arenaParams[\"bounds\"][2][2] - arenaParams[\"bounds\"][2][1])\n",
    "    n0 = arenaParams[\"n0\"]\n",
    "    r = arenaParams[\"radius\"]\n",
    "    V = xperiod*yperiod\n",
    "    fillDens = n0*π*r^2 / V\n",
    "    return fillDens\n",
    "end\n",
    "\n",
    "println(\"surface covered: \", fillDensity(arenaParams))"
   ]
  },
  {
   "cell_type": "code",
   "execution_count": null,
   "metadata": {},
   "outputs": [],
   "source": [
    "thermVals = Theorist.thermalValues(arenaParams)\n"
   ]
  },
  {
   "cell_type": "markdown",
   "metadata": {},
   "source": [
    "### Simulations"
   ]
  },
  {
   "cell_type": "markdown",
   "metadata": {},
   "source": [
    "run a particle simulation:"
   ]
  },
  {
   "cell_type": "code",
   "execution_count": 8,
   "metadata": {},
   "outputs": [
    {
     "name": "stdout",
     "output_type": "stream",
     "text": [
      "Building arena...\n",
      "33 overlaps found.\n",
      "Arena with 300 cells built.\n",
      "::::: Initial total kinetic energy: 0.05999999999999975\n"
     ]
    },
    {
     "name": "stderr",
     "output_type": "stream",
     "text": [
      "\u001b[32mProgress: 100%|████████████████████████████████████████▉|  ETA: 0:00:00\u001b[39m"
     ]
    },
    {
     "name": "stdout",
     "output_type": "stream",
     "text": [
      "energy per cell: 0.00019999999999999974\n"
     ]
    }
   ],
   "source": [
    "arena, pos_t_dim_id, vel_t_dim_id, cells_T_ID = \n",
    "    BParts.randArenaEvolve(arenaParams[\"n0\"], arenaParams[\"evolveTime\"], arenaParams[\"timeStep\"], arenaParams; \n",
    "        verbose=true)\n",
    "\n",
    "println(\"energy per cell: \",\n",
    "        BParts.kineticEnergy(arena) / arenaParams[\"n0\"]\n",
    "    )\n",
    "\n"
   ]
  },
  {
   "cell_type": "markdown",
   "metadata": {},
   "source": [
    "Run an ensemble of Langevin equations:"
   ]
  },
  {
   "cell_type": "code",
   "execution_count": 9,
   "metadata": {},
   "outputs": [
    {
     "name": "stdout",
     "output_type": "stream",
     "text": [
      "Energy: 0.0002\n",
      "131.025485 seconds (3.59 G allocations: 63.471 GiB, 10.93% gc time)\n"
     ]
    }
   ],
   "source": [
    "@time langevinEnsemble = Theorist.runLangevinSims(5000, arenaParams);"
   ]
  },
  {
   "cell_type": "code",
   "execution_count": null,
   "metadata": {},
   "outputs": [
    {
     "name": "stderr",
     "output_type": "stream",
     "text": [
      "\u001b[32mProgress:  24%|█████████▉                               |  ETA: 0:38:43\u001b[39m"
     ]
    },
    {
     "name": "stdout",
     "output_type": "stream",
     "text": [
      "fail\n"
     ]
    },
    {
     "name": "stderr",
     "output_type": "stream",
     "text": [
      "\u001b[32mProgress:  32%|█████████████▏                           |  ETA: 0:39:25\u001b[39m"
     ]
    }
   ],
   "source": [
    "nSims = 50\n",
    "pos_Sim = Array{Array{Union{Float64, Missing},3}}(undef, nSims)\n",
    "@showprogress for i in 1:nSims\n",
    "    succes = false\n",
    "    while !succes \n",
    "        # try/catch construction in case boundserror occurs\n",
    "        try\n",
    "            _, posSim_t_dim_id, __, ___ = \n",
    "                BParts.randArenaEvolve(arenaParams[\"n0\"], \n",
    "                    arenaParams[\"evolveTime\"], \n",
    "                    arenaParams[\"timeStep\"], \n",
    "                    arenaParams;\n",
    "                    progress=false, verbose=false)\n",
    "            pos_Sim[i] = posSim_t_dim_id\n",
    "#             println(\"sim: \", i)\n",
    "        catch e\n",
    "            println(\"fail\")\n",
    "            continue \n",
    "        end\n",
    "        succes = true\n",
    "    end\n",
    "end"
   ]
  },
  {
   "cell_type": "code",
   "execution_count": null,
   "metadata": {},
   "outputs": [],
   "source": [
    "msdTimes = (waitTime, arenaParams[\"evolveTime\"])\n",
    "timesPMSD_t = msdTimes[1]:msdTimes[2]\n",
    "\n",
    "msd_Sim = Array{Array{Float64}}(undef, nSims)\n",
    "@showprogress for i in 1:nSims\n",
    "    msd_Sim[i] = BParts.meanSquaredDisplacement(pos_Sim[i], msdTimes)\n",
    "end\n",
    "\n",
    "msdAv_t = Array{Float64, 1}(undef, length(timesPMSD_t))\n",
    "for i in 1:length(timesPMSD_t)\n",
    "    msdAv_t[i] = mean([ msd_tt[i] for msd_tt in msd_Sim ])\n",
    "end\n"
   ]
  },
  {
   "cell_type": "code",
   "execution_count": null,
   "metadata": {},
   "outputs": [],
   "source": [
    "msdTimes_t = timesPMSD_t .- timesPMSD_t[1]\n",
    "\n",
    "linModel(x, p) = p[1] .+ 4*p[2].*x\n",
    "\n",
    "linFit_Sim = []\n",
    "diffD_sim = Float64[]\n",
    "for i in 1:nSims\n",
    "    fit = curve_fit(linModel, msdTimes_t, msd_Sim[i], [0, 4*thermVals[\"DiffCoeff\"]]);\n",
    "    push!(linFit_Sim, fit)\n",
    "    push!(diffD_sim, coef(fit)[2])\n",
    "end"
   ]
  },
  {
   "cell_type": "code",
   "execution_count": null,
   "metadata": {},
   "outputs": [],
   "source": [
    "p3 = plot(msdTimes_t, msd_Sim[1],label=\"\")\n",
    "for i in 1:nSims\n",
    "    plot!(msdTimes_t, msd_Sim[i], label=\"\")\n",
    "end\n",
    "\n",
    "display(p3)\n",
    "\n",
    "# plot!(timesPMSD_t, linModel(timesPMSD_t, coef(fit)))"
   ]
  },
  {
   "cell_type": "code",
   "execution_count": null,
   "metadata": {},
   "outputs": [],
   "source": [
    "p4 = histogram(diffD_sim, bins=20)"
   ]
  },
  {
   "cell_type": "code",
   "execution_count": null,
   "metadata": {},
   "outputs": [],
   "source": [
    "thermVals[\"DiffCoeff\"]"
   ]
  },
  {
   "cell_type": "code",
   "execution_count": null,
   "metadata": {},
   "outputs": [],
   "source": [
    "diffDpart = mean(diffD_sim)"
   ]
  },
  {
   "cell_type": "code",
   "execution_count": null,
   "metadata": {},
   "outputs": [],
   "source": [
    "plot(0:5000, linModel(0:5000, [0, diffDpart]),\n",
    "    label=\"\")\n",
    "plot!(0:5000, linModel(0:5000, [0, thermVals[\"DiffCoeff\"]]),\n",
    "    label=\"\")"
   ]
  },
  {
   "cell_type": "code",
   "execution_count": null,
   "metadata": {},
   "outputs": [],
   "source": []
  }
 ],
 "metadata": {
  "kernelspec": {
   "display_name": "Julia 1.4.2",
   "language": "julia",
   "name": "julia-1.4"
  },
  "language_info": {
   "file_extension": ".jl",
   "mimetype": "application/julia",
   "name": "julia",
   "version": "1.4.2"
  }
 },
 "nbformat": 4,
 "nbformat_minor": 4
}

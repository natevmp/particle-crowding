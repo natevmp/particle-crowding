{
 "cells": [
  {
   "cell_type": "code",
   "execution_count": 1,
   "metadata": {},
   "outputs": [],
   "source": [
    "include(\"../src/bmparticles.jl\")\n",
    "include(\"../src/bmtheory.jl\")\n",
    "using .BParts\n",
    "using .Theorist"
   ]
  },
  {
   "cell_type": "code",
   "execution_count": 13,
   "metadata": {},
   "outputs": [
    {
     "data": {
      "text/plain": [
       "randArenaEvolve (generic function with 2 methods)"
      ]
     },
     "execution_count": 13,
     "metadata": {},
     "output_type": "execute_result"
    }
   ],
   "source": [
    "function randArenaEvolve(nCells::Int, steps::Int, growthParams::Union{Tuple, Nothing}=nothing; plotting=false, animating=false)\n",
    "    arena = buildRandArena(Bounds((0.,10.), (0.,10.)), nCells, 0.08, 0.05, fixSpeed=false)\n",
    "    \n",
    "    arenaCellPositions_dim_id = BParts.cellPositions_DIM_ID(arena)\n",
    "\n",
    "    eKin = BParts.kineticEnergy(arena)\n",
    "    println(\"::::: Initial total kinetic energy: \", eKin)\n",
    "\n",
    "    if animating\n",
    "        anim = Animation()\n",
    "    else anim = nothing\n",
    "    end\n",
    "    \n",
    "    posTime_t_dim_id, velTime_t_dim_id, cells_T_ID = \n",
    "        evolveArena!(arena, steps, growthParams, plotsteps=plotting, animator=anim)\n",
    "    \n",
    "    if animating\n",
    "        gif(anim, \"figures/animation.gif\", fps=10)\n",
    "    end\n",
    "\n",
    "    eKin = BParts.kineticEnergy(arena)\n",
    "    println(\"::::: Final total kinetic energy: \", eKin)\n",
    "\n",
    "    return arena, posTime_t_dim_id, velTime_t_dim_id, cells_T_ID\n",
    "end"
   ]
  },
  {
   "cell_type": "code",
   "execution_count": 14,
   "metadata": {},
   "outputs": [
    {
     "name": "stdout",
     "output_type": "stream",
     "text": [
      "::::: Initial total kinetic energy: 0.15367940738080682\n"
     ]
    },
    {
     "name": "stderr",
     "output_type": "stream",
     "text": [
      "\u001b[32mProgress: 100%|█████████████████████████████████████████| Time: 0:00:00\u001b[39m\n"
     ]
    },
    {
     "name": "stdout",
     "output_type": "stream",
     "text": [
      "::::: Final total kinetic energy: 0.5911794073808069\n"
     ]
    }
   ],
   "source": [
    "nCells = 50\n",
    "evolveTime = 300\n",
    "logisticRate(n::Real, ρ::Real, k::Real) = n*ρ*(1-n/k)\n",
    "exponentialRate(n::Real, ρ::Real) = n*ρ\n",
    "growthParams = (n->logisticRate(n, 0.04, 400), 0.08, 0.05)\n",
    "arena, posTime_t_dim_id, velTime_t_dim_id, cells_T_ID = randArenaEvolve(nCells, evolveTime, growthParams);"
   ]
  },
  {
   "cell_type": "code",
   "execution_count": 10,
   "metadata": {},
   "outputs": [
    {
     "data": {
      "text/plain": [
       "Plots.GRBackend()"
      ]
     },
     "execution_count": 10,
     "metadata": {},
     "output_type": "execute_result"
    }
   ],
   "source": [
    "using Plots\n",
    "gr()"
   ]
  },
  {
   "cell_type": "code",
   "execution_count": 15,
   "metadata": {},
   "outputs": [
    {
     "data": {
      "image/svg+xml": [
       "<?xml version=\"1.0\" encoding=\"utf-8\"?>\n",
       "<svg xmlns=\"http://www.w3.org/2000/svg\" xmlns:xlink=\"http://www.w3.org/1999/xlink\" width=\"600\" height=\"400\" viewBox=\"0 0 2400 1600\">\n",
       "<defs>\n",
       "  <clipPath id=\"clip8700\">\n",
       "    <rect x=\"0\" y=\"0\" width=\"2400\" height=\"1600\"/>\n",
       "  </clipPath>\n",
       "</defs>\n",
       "<path clip-path=\"url(#clip8700)\" d=\"\n",
       "M0 1600 L2400 1600 L2400 0 L0 0  Z\n",
       "  \" fill=\"#ffffff\" fill-rule=\"evenodd\" fill-opacity=\"1\"/>\n",
       "<defs>\n",
       "  <clipPath id=\"clip8701\">\n",
       "    <rect x=\"480\" y=\"0\" width=\"1681\" height=\"1600\"/>\n",
       "  </clipPath>\n",
       "</defs>\n",
       "<path clip-path=\"url(#clip8700)\" d=\"\n",
       "M229.135 1425.62 L2352.76 1425.62 L2352.76 47.2441 L229.135 47.2441  Z\n",
       "  \" fill=\"#ffffff\" fill-rule=\"evenodd\" fill-opacity=\"1\"/>\n",
       "<defs>\n",
       "  <clipPath id=\"clip8702\">\n",
       "    <rect x=\"229\" y=\"47\" width=\"2125\" height=\"1379\"/>\n",
       "  </clipPath>\n",
       "</defs>\n",
       "<polyline clip-path=\"url(#clip8702)\" style=\"stroke:#000000; stroke-width:2; stroke-opacity:0.1; fill:none\" points=\"\n",
       "  282.537,1425.62 282.537,47.2441 \n",
       "  \"/>\n",
       "<polyline clip-path=\"url(#clip8702)\" style=\"stroke:#000000; stroke-width:2; stroke-opacity:0.1; fill:none\" points=\"\n",
       "  952.576,1425.62 952.576,47.2441 \n",
       "  \"/>\n",
       "<polyline clip-path=\"url(#clip8702)\" style=\"stroke:#000000; stroke-width:2; stroke-opacity:0.1; fill:none\" points=\"\n",
       "  1622.61,1425.62 1622.61,47.2441 \n",
       "  \"/>\n",
       "<polyline clip-path=\"url(#clip8702)\" style=\"stroke:#000000; stroke-width:2; stroke-opacity:0.1; fill:none\" points=\"\n",
       "  2292.65,1425.62 2292.65,47.2441 \n",
       "  \"/>\n",
       "<polyline clip-path=\"url(#clip8702)\" style=\"stroke:#000000; stroke-width:2; stroke-opacity:0.1; fill:none\" points=\"\n",
       "  229.135,1204.04 2352.76,1204.04 \n",
       "  \"/>\n",
       "<polyline clip-path=\"url(#clip8702)\" style=\"stroke:#000000; stroke-width:2; stroke-opacity:0.1; fill:none\" points=\"\n",
       "  229.135,831.443 2352.76,831.443 \n",
       "  \"/>\n",
       "<polyline clip-path=\"url(#clip8702)\" style=\"stroke:#000000; stroke-width:2; stroke-opacity:0.1; fill:none\" points=\"\n",
       "  229.135,458.849 2352.76,458.849 \n",
       "  \"/>\n",
       "<polyline clip-path=\"url(#clip8702)\" style=\"stroke:#000000; stroke-width:2; stroke-opacity:0.1; fill:none\" points=\"\n",
       "  229.135,86.2547 2352.76,86.2547 \n",
       "  \"/>\n",
       "<polyline clip-path=\"url(#clip8700)\" style=\"stroke:#000000; stroke-width:4; stroke-opacity:1; fill:none\" points=\"\n",
       "  229.135,1425.62 2352.76,1425.62 \n",
       "  \"/>\n",
       "<polyline clip-path=\"url(#clip8700)\" style=\"stroke:#000000; stroke-width:4; stroke-opacity:1; fill:none\" points=\"\n",
       "  229.135,1425.62 229.135,47.2441 \n",
       "  \"/>\n",
       "<polyline clip-path=\"url(#clip8700)\" style=\"stroke:#000000; stroke-width:4; stroke-opacity:1; fill:none\" points=\"\n",
       "  282.537,1425.62 282.537,1409.08 \n",
       "  \"/>\n",
       "<polyline clip-path=\"url(#clip8700)\" style=\"stroke:#000000; stroke-width:4; stroke-opacity:1; fill:none\" points=\"\n",
       "  952.576,1425.62 952.576,1409.08 \n",
       "  \"/>\n",
       "<polyline clip-path=\"url(#clip8700)\" style=\"stroke:#000000; stroke-width:4; stroke-opacity:1; fill:none\" points=\"\n",
       "  1622.61,1425.62 1622.61,1409.08 \n",
       "  \"/>\n",
       "<polyline clip-path=\"url(#clip8700)\" style=\"stroke:#000000; stroke-width:4; stroke-opacity:1; fill:none\" points=\"\n",
       "  2292.65,1425.62 2292.65,1409.08 \n",
       "  \"/>\n",
       "<polyline clip-path=\"url(#clip8700)\" style=\"stroke:#000000; stroke-width:4; stroke-opacity:1; fill:none\" points=\"\n",
       "  229.135,1204.04 254.619,1204.04 \n",
       "  \"/>\n",
       "<polyline clip-path=\"url(#clip8700)\" style=\"stroke:#000000; stroke-width:4; stroke-opacity:1; fill:none\" points=\"\n",
       "  229.135,831.443 254.619,831.443 \n",
       "  \"/>\n",
       "<polyline clip-path=\"url(#clip8700)\" style=\"stroke:#000000; stroke-width:4; stroke-opacity:1; fill:none\" points=\"\n",
       "  229.135,458.849 254.619,458.849 \n",
       "  \"/>\n",
       "<polyline clip-path=\"url(#clip8700)\" style=\"stroke:#000000; stroke-width:4; stroke-opacity:1; fill:none\" points=\"\n",
       "  229.135,86.2547 254.619,86.2547 \n",
       "  \"/>\n",
       "<g clip-path=\"url(#clip8700)\">\n",
       "<text style=\"fill:#000000; fill-opacity:1; font-family:Arial,Helvetica Neue,Helvetica,sans-serif; font-size:48px; text-anchor:middle;\" transform=\"rotate(0, 282.537, 1479.62)\" x=\"282.537\" y=\"1479.62\">0</text>\n",
       "</g>\n",
       "<g clip-path=\"url(#clip8700)\">\n",
       "<text style=\"fill:#000000; fill-opacity:1; font-family:Arial,Helvetica Neue,Helvetica,sans-serif; font-size:48px; text-anchor:middle;\" transform=\"rotate(0, 952.576, 1479.62)\" x=\"952.576\" y=\"1479.62\">100</text>\n",
       "</g>\n",
       "<g clip-path=\"url(#clip8700)\">\n",
       "<text style=\"fill:#000000; fill-opacity:1; font-family:Arial,Helvetica Neue,Helvetica,sans-serif; font-size:48px; text-anchor:middle;\" transform=\"rotate(0, 1622.61, 1479.62)\" x=\"1622.61\" y=\"1479.62\">200</text>\n",
       "</g>\n",
       "<g clip-path=\"url(#clip8700)\">\n",
       "<text style=\"fill:#000000; fill-opacity:1; font-family:Arial,Helvetica Neue,Helvetica,sans-serif; font-size:48px; text-anchor:middle;\" transform=\"rotate(0, 2292.65, 1479.62)\" x=\"2292.65\" y=\"1479.62\">300</text>\n",
       "</g>\n",
       "<g clip-path=\"url(#clip8700)\">\n",
       "<text style=\"fill:#000000; fill-opacity:1; font-family:Arial,Helvetica Neue,Helvetica,sans-serif; font-size:48px; text-anchor:end;\" transform=\"rotate(0, 205.135, 1221.54)\" x=\"205.135\" y=\"1221.54\">100</text>\n",
       "</g>\n",
       "<g clip-path=\"url(#clip8700)\">\n",
       "<text style=\"fill:#000000; fill-opacity:1; font-family:Arial,Helvetica Neue,Helvetica,sans-serif; font-size:48px; text-anchor:end;\" transform=\"rotate(0, 205.135, 848.943)\" x=\"205.135\" y=\"848.943\">200</text>\n",
       "</g>\n",
       "<g clip-path=\"url(#clip8700)\">\n",
       "<text style=\"fill:#000000; fill-opacity:1; font-family:Arial,Helvetica Neue,Helvetica,sans-serif; font-size:48px; text-anchor:end;\" transform=\"rotate(0, 205.135, 476.349)\" x=\"205.135\" y=\"476.349\">300</text>\n",
       "</g>\n",
       "<g clip-path=\"url(#clip8700)\">\n",
       "<text style=\"fill:#000000; fill-opacity:1; font-family:Arial,Helvetica Neue,Helvetica,sans-serif; font-size:48px; text-anchor:end;\" transform=\"rotate(0, 205.135, 103.755)\" x=\"205.135\" y=\"103.755\">400</text>\n",
       "</g>\n",
       "<g clip-path=\"url(#clip8700)\">\n",
       "<text style=\"fill:#000000; fill-opacity:1; font-family:Arial,Helvetica Neue,Helvetica,sans-serif; font-size:66px; text-anchor:middle;\" transform=\"rotate(0, 1290.95, 1559.48)\" x=\"1290.95\" y=\"1559.48\">time</text>\n",
       "</g>\n",
       "<g clip-path=\"url(#clip8700)\">\n",
       "<text style=\"fill:#000000; fill-opacity:1; font-family:Arial,Helvetica Neue,Helvetica,sans-serif; font-size:66px; text-anchor:middle;\" transform=\"rotate(-90, 89.2861, 736.431)\" x=\"89.2861\" y=\"736.431\">number of cells</text>\n",
       "</g>\n",
       "<polyline clip-path=\"url(#clip8702)\" style=\"stroke:#009af9; stroke-width:4; stroke-opacity:1; fill:none\" points=\"\n",
       "  289.238,1386.61 295.938,1379.16 302.639,1375.43 309.339,1371.7 316.039,1371.7 322.74,1371.7 329.44,1349.35 336.14,1341.9 342.841,1338.17 349.541,1334.44 \n",
       "  356.242,1326.99 362.942,1308.36 369.642,1304.64 376.343,1297.19 383.043,1278.56 389.744,1274.83 396.444,1267.38 403.144,1252.47 409.845,1245.02 416.545,1237.57 \n",
       "  423.245,1230.12 429.946,1226.39 436.646,1226.39 443.347,1226.39 450.047,1207.76 456.747,1181.68 463.448,1163.05 470.148,1155.6 476.849,1136.97 483.549,1129.52 \n",
       "  490.249,1095.98 496.95,1077.35 503.65,1062.45 510.35,1043.82 517.051,1021.47 523.751,1014.01 530.452,999.11 537.152,973.029 543.852,965.577 550.553,958.125 \n",
       "  557.253,950.673 563.954,943.221 570.654,928.317 577.354,905.962 584.055,898.51 590.755,891.058 597.456,868.702 604.156,861.25 610.856,842.621 617.557,827.717 \n",
       "  624.257,816.539 630.957,801.635 637.658,786.732 644.358,768.102 651.059,749.472 657.759,730.842 664.459,704.761 671.16,693.583 677.86,682.405 684.561,671.227 \n",
       "  691.261,652.598 697.961,641.42 704.662,633.968 711.362,600.435 718.062,574.353 724.763,570.627 731.463,555.723 738.164,537.094 744.864,525.916 751.564,518.464 \n",
       "  758.265,499.834 764.965,488.656 771.666,473.753 778.366,470.027 785.066,458.849 791.767,443.945 798.467,440.219 805.168,432.767 811.868,402.96 818.568,399.234 \n",
       "  825.269,380.604 831.969,361.974 838.669,354.522 845.37,347.071 852.07,339.619 858.771,332.167 865.471,324.715 872.171,320.989 878.872,306.085 885.572,302.359 \n",
       "  892.273,294.907 898.973,287.455 905.673,272.552 912.374,265.1 919.074,261.374 925.774,253.922 932.475,253.922 939.175,250.196 945.876,246.47 952.576,239.018 \n",
       "  959.276,231.566 965.977,227.84 972.677,224.115 979.378,224.115 986.078,220.389 992.778,212.937 999.479,205.485 1006.18,198.033 1012.88,194.307 1019.58,194.307 \n",
       "  1026.28,194.307 1032.98,194.307 1039.68,190.581 1046.38,190.581 1053.08,190.581 1059.78,183.129 1066.48,183.129 1073.18,175.677 1079.88,168.225 1086.58,164.499 \n",
       "  1093.28,157.048 1099.98,153.322 1106.68,153.322 1113.39,153.322 1120.09,153.322 1126.79,149.596 1133.49,149.596 1140.19,149.596 1146.89,149.596 1153.59,149.596 \n",
       "  1160.29,149.596 1166.99,138.418 1173.69,138.418 1180.39,134.692 1187.09,127.24 1193.79,119.788 1200.49,119.788 1207.19,112.336 1213.89,112.336 1220.59,112.336 \n",
       "  1227.29,112.336 1233.99,112.336 1240.69,112.336 1247.39,112.336 1254.09,108.61 1260.79,108.61 1267.49,104.884 1274.19,104.884 1280.89,104.884 1287.6,97.4325 \n",
       "  1294.3,97.4325 1301,97.4325 1307.7,97.4325 1314.4,93.7066 1321.1,93.7066 1327.8,93.7066 1334.5,93.7066 1341.2,89.9806 1347.9,89.9806 1354.6,89.9806 \n",
       "  1361.3,89.9806 1368,89.9806 1374.7,89.9806 1381.4,89.9806 1388.1,89.9806 1394.8,89.9806 1401.5,89.9806 1408.2,89.9806 1414.9,89.9806 1421.6,89.9806 \n",
       "  1428.3,89.9806 1435,89.9806 1441.7,89.9806 1448.4,89.9806 1455.11,89.9806 1461.81,89.9806 1468.51,89.9806 1475.21,89.9806 1481.91,89.9806 1488.61,89.9806 \n",
       "  1495.31,89.9806 1502.01,89.9806 1508.71,89.9806 1515.41,89.9806 1522.11,89.9806 1528.81,89.9806 1535.51,89.9806 1542.21,89.9806 1548.91,89.9806 1555.61,89.9806 \n",
       "  1562.31,89.9806 1569.01,89.9806 1575.71,89.9806 1582.41,89.9806 1589.11,89.9806 1595.81,89.9806 1602.51,89.9806 1609.21,89.9806 1615.91,89.9806 1622.61,89.9806 \n",
       "  1629.32,89.9806 1636.02,89.9806 1642.72,89.9806 1649.42,89.9806 1656.12,89.9806 1662.82,89.9806 1669.52,89.9806 1676.22,89.9806 1682.92,89.9806 1689.62,89.9806 \n",
       "  1696.32,89.9806 1703.02,89.9806 1709.72,86.2547 1716.42,86.2547 1723.12,86.2547 1729.82,86.2547 1736.52,86.2547 1743.22,86.2547 1749.92,86.2547 1756.62,86.2547 \n",
       "  1763.32,86.2547 1770.02,86.2547 1776.72,86.2547 1783.42,86.2547 1790.12,86.2547 1796.82,86.2547 1803.53,86.2547 1810.23,86.2547 1816.93,86.2547 1823.63,86.2547 \n",
       "  1830.33,86.2547 1837.03,86.2547 1843.73,86.2547 1850.43,86.2547 1857.13,86.2547 1863.83,86.2547 1870.53,86.2547 1877.23,86.2547 1883.93,86.2547 1890.63,86.2547 \n",
       "  1897.33,86.2547 1904.03,86.2547 1910.73,86.2547 1917.43,86.2547 1924.13,86.2547 1930.83,86.2547 1937.53,86.2547 1944.23,86.2547 1950.93,86.2547 1957.63,86.2547 \n",
       "  1964.33,86.2547 1971.03,86.2547 1977.74,86.2547 1984.44,86.2547 1991.14,86.2547 1997.84,86.2547 2004.54,86.2547 2011.24,86.2547 2017.94,86.2547 2024.64,86.2547 \n",
       "  2031.34,86.2547 2038.04,86.2547 2044.74,86.2547 2051.44,86.2547 2058.14,86.2547 2064.84,86.2547 2071.54,86.2547 2078.24,86.2547 2084.94,86.2547 2091.64,86.2547 \n",
       "  2098.34,86.2547 2105.04,86.2547 2111.74,86.2547 2118.44,86.2547 2125.14,86.2547 2131.84,86.2547 2138.54,86.2547 2145.24,86.2547 2151.95,86.2547 2158.65,86.2547 \n",
       "  2165.35,86.2547 2172.05,86.2547 2178.75,86.2547 2185.45,86.2547 2192.15,86.2547 2198.85,86.2547 2205.55,86.2547 2212.25,86.2547 2218.95,86.2547 2225.65,86.2547 \n",
       "  2232.35,86.2547 2239.05,86.2547 2245.75,86.2547 2252.45,86.2547 2259.15,86.2547 2265.85,86.2547 2272.55,86.2547 2279.25,86.2547 2285.95,86.2547 2292.65,86.2547 \n",
       "  \n",
       "  \"/>\n",
       "<path clip-path=\"url(#clip8700)\" d=\"\n",
       "M1989.93 251.724 L2280.76 251.724 L2280.76 130.764 L1989.93 130.764  Z\n",
       "  \" fill=\"#ffffff\" fill-rule=\"evenodd\" fill-opacity=\"1\"/>\n",
       "<polyline clip-path=\"url(#clip8700)\" style=\"stroke:#000000; stroke-width:4; stroke-opacity:1; fill:none\" points=\"\n",
       "  1989.93,251.724 2280.76,251.724 2280.76,130.764 1989.93,130.764 1989.93,251.724 \n",
       "  \"/>\n",
       "<polyline clip-path=\"url(#clip8700)\" style=\"stroke:#009af9; stroke-width:4; stroke-opacity:1; fill:none\" points=\"\n",
       "  2013.93,191.244 2157.93,191.244 \n",
       "  \"/>\n",
       "<g clip-path=\"url(#clip8700)\">\n",
       "<text style=\"fill:#000000; fill-opacity:1; font-family:Arial,Helvetica Neue,Helvetica,sans-serif; font-size:48px; text-anchor:start;\" transform=\"rotate(0, 2181.93, 208.744)\" x=\"2181.93\" y=\"208.744\">y1</text>\n",
       "</g>\n",
       "</svg>\n"
      ]
     },
     "metadata": {},
     "output_type": "display_data"
    }
   ],
   "source": [
    "p2 = plot(map(length, cells_T_ID))\n",
    "xlabel!(\"time\")\n",
    "ylabel!(\"number of cells\")\n",
    "display(p2)"
   ]
  },
  {
   "cell_type": "code",
   "execution_count": null,
   "metadata": {},
   "outputs": [],
   "source": [
    "msd_t = BParts.meanSquaredDisplacement(posTime_t_dim_id[:,:,:], arena.bounds);\n",
    "p = plot(msd_t)\n",
    "ylims!((0,15))\n",
    "xlabel!(\"time\")\n",
    "ylabel!(\"msd\")\n",
    "display(p)"
   ]
  },
  {
   "cell_type": "code",
   "execution_count": null,
   "metadata": {},
   "outputs": [],
   "source": []
  }
 ],
 "metadata": {
  "kernelspec": {
   "display_name": "Julia 1.2.0",
   "language": "julia",
   "name": "julia-1.2"
  },
  "language_info": {
   "file_extension": ".jl",
   "mimetype": "application/julia",
   "name": "julia",
   "version": "1.2.0"
  }
 },
 "nbformat": 4,
 "nbformat_minor": 4
}

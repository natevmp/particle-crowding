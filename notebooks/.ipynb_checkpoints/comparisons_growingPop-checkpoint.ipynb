{
 "cells": [
  {
   "cell_type": "markdown",
   "metadata": {},
   "source": [
    "# Particle simulation vs Langevin model"
   ]
  },
  {
   "cell_type": "code",
   "execution_count": 1,
   "metadata": {},
   "outputs": [],
   "source": [
    "using ProgressMeter\n",
    "using Revise\n",
    "using JLD2"
   ]
  },
  {
   "cell_type": "code",
   "execution_count": null,
   "metadata": {},
   "outputs": [],
   "source": [
    "include(\"../src/bmparticles.jl\")\n",
    "include(\"../src/bmtheory.jl\")\n",
    "using .BParts\n",
    "using .Theorist\n",
    "using DifferentialEquations, Distributions"
   ]
  },
  {
   "cell_type": "markdown",
   "metadata": {},
   "source": [
    "## Growing population"
   ]
  },
  {
   "cell_type": "markdown",
   "metadata": {},
   "source": [
    "### Parameters"
   ]
  },
  {
   "cell_type": "code",
   "execution_count": null,
   "metadata": {},
   "outputs": [],
   "source": [
    "using Plots\n",
    "# plotly()\n",
    "gr()\n",
    "# plotlyjs()\n",
    "# pyplot()"
   ]
  },
  {
   "cell_type": "code",
   "execution_count": null,
   "metadata": {},
   "outputs": [],
   "source": [
    "using LaTeXStrings"
   ]
  },
  {
   "cell_type": "code",
   "execution_count": null,
   "metadata": {},
   "outputs": [],
   "source": [
    "function extendParams!(arenaParams::Dict)\n",
    "    bounds = arenaParams[\"bounds\"]\n",
    "    arenaParams[\"volume\"] = abs(bounds[1][2]-bounds[1][1])*abs(bounds[2][2]-bounds[2][1])\n",
    "    arenaParams[\"bperiod\"] = [abs(bounds[1][2]-bounds[1][1]), abs(bounds[2][2]-bounds[2][1])]\n",
    "    arenaParams[\"E\"] = arenaParams[\"speed\"]^2/2\n",
    "end"
   ]
  },
  {
   "cell_type": "code",
   "execution_count": null,
   "metadata": {},
   "outputs": [],
   "source": [
    "arenaParams = \n",
    "    Dict(\n",
    "        \"n0\"=>100,\n",
    "        \"evolveTime\"=>4500,\n",
    "        \"bounds\"=>((0.,10.),(0.,10.)), \n",
    "        \"radius\"=>0.08, \n",
    "        \"speed\"=>0.02,\n",
    "        \"timeStep\"=> 0.1\n",
    "    )\n",
    "\n",
    "growthParams =\n",
    "    Dict(\n",
    "        \"ρ\"=> 0.002,\n",
    "        \"k\"=> 1000,\n",
    "        \"randGrowth\"=> false,\n",
    "        \"waitTime\"=> 500\n",
    "    )\n",
    "\n",
    "extendParams!(arenaParams)\n",
    "\n",
    "display(arenaParams)\n",
    "display(growthParams)\n",
    "\n",
    "function fillDensity(arenaParams, growthParams)  \n",
    "    xperiod = abs(arenaParams[\"bounds\"][1][2] - arenaParams[\"bounds\"][1][1])\n",
    "    yperiod = abs(arenaParams[\"bounds\"][2][2] - arenaParams[\"bounds\"][2][1])\n",
    "    n0 = arenaParams[\"n0\"]\n",
    "    nT = growthParams[\"k\"]\n",
    "    r = arenaParams[\"radius\"]\n",
    "    V = xperiod*yperiod\n",
    "    fillDens0 = n0*π*r^2 / V\n",
    "    fillDensT = nT*π*r^2 / V\n",
    "    return fillDens0, fillDensT\n",
    "end\n",
    "\n",
    "volumeDens(n, r, V) = n*π*r^2/V\n",
    "\n",
    "timeSteps = arenaParams[\"timeStep\"]:arenaParams[\"timeStep\"]:arenaParams[\"evolveTime\"]\n",
    "\n",
    "println(\"t0 density: \", fillDensity(arenaParams, growthParams)[1])\n",
    "println(\"t0 density: \", fillDensity(arenaParams, growthParams)[2])"
   ]
  },
  {
   "cell_type": "markdown",
   "metadata": {},
   "source": [
    "### Logistic Growth\n",
    "\n",
    "The number of cells in the system increases according to the logistic growth function:\n",
    "\\begin{equation}\n",
    "n(t) = \\frac{k}{ 1 + \\frac{k-n_0}{n_0}e^{-\\rho t}}\n",
    "\\end{equation}\n"
   ]
  },
  {
   "cell_type": "markdown",
   "metadata": {},
   "source": [
    "### Mean Free Path and Friction"
   ]
  },
  {
   "cell_type": "code",
   "execution_count": null,
   "metadata": {},
   "outputs": [],
   "source": [
    "nCells_t = Theorist.logisticGrowth.(0:(arenaParams[\"evolveTime\"]-growthParams[\"waitTime\"]-1), \n",
    "            growthParams[\"ρ\"], growthParams[\"k\"], arenaParams[\"n0\"]);\n",
    "\n",
    "mfpTheory_t = (x -> Theorist.meanFreePath(x, 4*arenaParams[\"radius\"])).(nCells_t);\n",
    "frictionTheory_t = ( l -> Theorist.friction(l, arenaParams[\"E\"]) ).(mfpTheory_t);"
   ]
  },
  {
   "cell_type": "code",
   "execution_count": null,
   "metadata": {},
   "outputs": [],
   "source": [
    "f2 = plot(0:(arenaParams[\"evolveTime\"]-growthParams[\"waitTime\"]-1), mfpTheory_t,\n",
    "        label=\"Theoretical prediction\",\n",
    "        linewidth=2,\n",
    "        legend=:topright,\n",
    "        size=(450,300))\n",
    "xlabel!(\"time\")\n",
    "ylabel!(\"mean free path\")\n",
    "display(f2)\n",
    "\n",
    "savefig(f2, \"../Figures/rho\"*string(growthParams[\"ρ\"])*\"mfp_time.pdf\")\n",
    "\n",
    "f3 = plot(0:(arenaParams[\"evolveTime\"]-growthParams[\"waitTime\"]-1), \n",
    "            arenaParams[\"speed\"]*frictionTheory_t,\n",
    "        label=\"Theoretical prediction\",\n",
    "        linewidth=2,\n",
    "        legend=:bottomright,\n",
    "        size=(450,300))\n",
    "xlabel!(\"time\")\n",
    "ylabel!(\"friction\")\n",
    "display(f3)\n",
    "\n",
    "savefig(f3, \"../Figures/rho\"*string(growthParams[\"ρ\"])*\"friction_time.pdf\")\n",
    "\n",
    "f4 = plot(0:(arenaParams[\"evolveTime\"]-growthParams[\"waitTime\"]-1),\n",
    "            1 ./ (arenaParams[\"speed\"]*frictionTheory_t),\n",
    "        label=\"Theoretical prediction\",\n",
    "        linewidth=2,\n",
    "#         legend=:bottomright,\n",
    "        size=(450,300))\n",
    "xlabel!(\"time\")\n",
    "ylabel!(\"friction time (mass / friction)\")\n",
    "display(f4)\n",
    "\n",
    "savefig(f4, \"../Figures/rho\"*string(growthParams[\"ρ\"])*\"frictionTime_time.pdf\")"
   ]
  },
  {
   "cell_type": "markdown",
   "metadata": {},
   "source": [
    "Run Langevin simulations:"
   ]
  },
  {
   "cell_type": "code",
   "execution_count": null,
   "metadata": {},
   "outputs": [],
   "source": [
    "@time langevinEnsemble = Theorist.runLangevinSims(5000, arenaParams, growthParams);"
   ]
  },
  {
   "cell_type": "markdown",
   "metadata": {},
   "source": [
    "Run a particle simulation:"
   ]
  },
  {
   "cell_type": "code",
   "execution_count": null,
   "metadata": {},
   "outputs": [],
   "source": [
    "@time arena, pos_t_dim_id, vel_t_dim_id, cells_T_ID, times_t = \n",
    "        BParts.randArenaEvolve(\n",
    "            arenaParams[\"n0\"], \n",
    "            arenaParams[\"evolveTime\"],\n",
    "            arenaParams[\"timeStep\"],\n",
    "            arenaParams,\n",
    "            growthParams,\n",
    "            verbose=true);"
   ]
  },
  {
   "cell_type": "code",
   "execution_count": null,
   "metadata": {},
   "outputs": [],
   "source": [
    "comVel = BParts.comVel(arena.cellsList)\n",
    "Eav = BParts.avParticleEnergy(arena.cellsList)\n",
    "\n",
    "println(comVel)\n",
    "println(Eav)\n",
    "println(length(arena.cellsList))"
   ]
  },
  {
   "cell_type": "code",
   "execution_count": null,
   "metadata": {},
   "outputs": [],
   "source": [
    "# msdPart0_t = BParts.meanSquaredDisplacement(pos_t_dim_id, msdTimes)"
   ]
  },
  {
   "cell_type": "code",
   "execution_count": null,
   "metadata": {},
   "outputs": [],
   "source": [
    "f1 = plot(0:(arenaParams[\"evolveTime\"]-1-growthParams[\"waitTime\"]), \n",
    "        volumeDens.(\n",
    "            Theorist.logisticGrowth.(0:(arenaParams[\"evolveTime\"]-growthParams[\"waitTime\"]-1), \n",
    "            growthParams[\"ρ\"], growthParams[\"k\"], arenaParams[\"n0\"]),\n",
    "            arenaParams[\"radius\"],\n",
    "            arenaParams[\"volume\"]\n",
    "        ),\n",
    "        label=\"growth function\",\n",
    "        linewidth=2,\n",
    "        size=(450,300),\n",
    "        legend=:topleft)\n",
    "# plot!(times_t .- growthParams[\"waitTime\"], \n",
    "#     volumeDens.(\n",
    "#         BParts.nCellsTime(cells_T_ID)[1:end],     \n",
    "#         arenaParams[\"radius\"],\n",
    "#         arenaParams[\"volume\"]\n",
    "#     ),\n",
    "#     label=\"particle simulation\",\n",
    "#     linewidth=2,\n",
    "#     linestyle=:dash)\n",
    "xlabel!(\"time\")\n",
    "ylabel!(\"occupied surface density\")\n",
    "xlims!(0,arenaParams[\"evolveTime\"]-growthParams[\"waitTime\"])\n",
    "display(f1)\n",
    "\n",
    "# savefig(f1, \"../Figures/rho\"*string(growthParams[\"ρ\"])*\"surfaceDensity_time.pdf\")"
   ]
  },
  {
   "cell_type": "markdown",
   "metadata": {},
   "source": [
    "Ensemble of particle simulations:"
   ]
  },
  {
   "cell_type": "code",
   "execution_count": null,
   "metadata": {},
   "outputs": [],
   "source": [
    "nSims = 50\n",
    "\n",
    "pos_Sim = Array{Array{Union{Float64, Missing},3}}(undef, nSims)\n",
    "@showprogress for i in 1:nSims\n",
    "    succes = false\n",
    "    while !succes \n",
    "        # try/catch construction in case boundserror occurs\n",
    "        try\n",
    "            @time _, posSim_t_dim_id, __, ___ = \n",
    "                BParts.randArenaEvolve(\n",
    "                        arenaParams[\"n0\"],\n",
    "                        arenaParams[\"evolveTime\"], \n",
    "                        arenaParams[\"timeStep\"],\n",
    "                        arenaParams,\n",
    "                        growthParams,\n",
    "                        progress=false,\n",
    "                        verbose=true);\n",
    "            pos_Sim[i] = posSim_t_dim_id\n",
    "#             println(\"sim: \", i)\n",
    "        catch e\n",
    "#             println(\"fail\")\n",
    "            continue\n",
    "        end\n",
    "        succes = true\n",
    "    end\n",
    "end"
   ]
  },
  {
   "cell_type": "markdown",
   "metadata": {},
   "source": [
    "### Mean squared displacement"
   ]
  },
  {
   "cell_type": "code",
   "execution_count": null,
   "metadata": {},
   "outputs": [],
   "source": [
    "msdTimes = (growthParams[\"waitTime\"]+1, arenaParams[\"evolveTime\"])"
   ]
  },
  {
   "cell_type": "code",
   "execution_count": null,
   "metadata": {},
   "outputs": [],
   "source": [
    "@time msd_Sim_t = (p_t_dim_id -> BParts.meanSquaredDisplacement(p_t_dim_id, msdTimes)).(pos_Sim);\n",
    "msdPart_t = Array{Float64, 1}(undef, msdTimes[2]-msdTimes[1]+1)\n",
    "for i in 1:(msdTimes[2]-msdTimes[1]+1)\n",
    "    msdPart_t[i] = mean([ msd_tt[i] for msd_tt in msd_Sim_t ])\n",
    "end"
   ]
  },
  {
   "cell_type": "code",
   "execution_count": null,
   "metadata": {},
   "outputs": [],
   "source": [
    "length(msd_Sim_t[1])"
   ]
  },
  {
   "cell_type": "code",
   "execution_count": null,
   "metadata": {},
   "outputs": [],
   "source": [
    "timesMSD_t, msdLan_t = \n",
    "    Theorist.msd(\n",
    "        langevinEnsemble, \n",
    "        arenaParams,\n",
    "        (growthParams[\"waitTime\"]+1, arenaParams[\"evolveTime\"])\n",
    "    )"
   ]
  },
  {
   "cell_type": "code",
   "execution_count": null,
   "metadata": {},
   "outputs": [],
   "source": [
    "saveName = \"growingPop_multSims_rho\"*string(growthParams[\"ρ\"])*\".jld2\"\n",
    "\n",
    "@save saveName arenaParams growthParams msd_Sim_t msdPart_t msdLan_t"
   ]
  },
  {
   "cell_type": "code",
   "execution_count": null,
   "metadata": {},
   "outputs": [],
   "source": [
    "p2 = plot(1:msdTimes[2]-msdTimes[1], msdPart_t[2:end], label=\"particle simulation\", legend=:bottomright, linewidth=2,\n",
    "    size=(400,300), \n",
    "    dpi=140)\n",
    "plot!(1:msdTimes[2]-msdTimes[1], msdLan_t[2:end], label=\"Langevin simulation\", linestyle=:dash, linewidth=2)\n",
    "xlabel!(L\"t\")\n",
    "ylabel!(L\"\\left\\langle x(t)^2 \\right\\rangle\")\n",
    "# title!(latexstring(\"\\\\rho=\"*string(growthParams[\"ρ\"])))\n",
    "display(p2)\n",
    "\n",
    "# savefig(p2, \"../Figures/rho\"*string(growthParams[\"ρ\"])*\"msd_time.png\")\n",
    "# savefig(p2, \"../Figures/rho\"*string(growthParams[\"ρ\"])*\"msd_time.pdf\")"
   ]
  },
  {
   "cell_type": "code",
   "execution_count": null,
   "metadata": {},
   "outputs": [],
   "source": [
    "p2 = plot(1:msdTimes[2]-msdTimes[1], msdPart_t[2:end], label=\"particle simulation\", legend=:bottomright, linewidth=2,\n",
    "    xaxis=:log10, yaxis=:log10,\n",
    "    size=(400,300), \n",
    "    dpi=140)\n",
    "plot!(1:msdTimes[2]-msdTimes[1], msdLan_t[2:end], label=\"Langevin simulation\", linestyle=:dash, linewidth=2)\n",
    "xlabel!(L\"t\")\n",
    "ylabel!(L\"\\left\\langle x(t)^2 \\right\\rangle\")\n",
    "title!(latexstring(\"\\\\rho=\"*string(growthParams[\"ρ\"])))\n",
    "display(p2)\n",
    "\n",
    "# savefig(p2, \"../Figures/rho\"*string(growthParams[\"ρ\"])*\"msdLoglog_time.png\")\n",
    "# savefig(p2, \"../Figures/rho\"*string(growthParams[\"ρ\"])*\"msdLoglog_time.pdf\")"
   ]
  },
  {
   "cell_type": "markdown",
   "metadata": {},
   "source": [
    "## MSD linear regime"
   ]
  },
  {
   "cell_type": "code",
   "execution_count": null,
   "metadata": {},
   "outputs": [],
   "source": [
    "# msdTimes = (arenaParams[\"evolveTime\"]-1000, arenaParams[\"evolveTime\"])"
   ]
  },
  {
   "cell_type": "code",
   "execution_count": null,
   "metadata": {},
   "outputs": [],
   "source": [
    "# @time msd_Sim_t = (p_t_dim_id -> BParts.meanSquaredDisplacement(p_t_dim_id, msdTimes)).(pos_Sim);\n",
    "# msdPart_t = Array{Float64, 1}(undef, msdTimes[2]-msdTimes[1]+1)\n",
    "# for i in 1:(msdTimes[2]-msdTimes[1]+1)\n",
    "#     msdPart_t[i] = mean([ msd_tt[i] for msd_tt in msd_Sim_t ])\n",
    "# end"
   ]
  },
  {
   "cell_type": "code",
   "execution_count": null,
   "metadata": {},
   "outputs": [],
   "source": [
    "# length(msd_Sim_t[1])"
   ]
  },
  {
   "cell_type": "code",
   "execution_count": null,
   "metadata": {},
   "outputs": [],
   "source": [
    "# @time timesMSD_t, msdLan_t = \n",
    "#     Theorist.msd(\n",
    "#         langevinEnsemble, \n",
    "#         arenaParams,\n",
    "#         (arenaParams[\"evolveTime\"]-1000, arenaParams[\"evolveTime\"])\n",
    "#     )\n",
    "# # msdPar_t = BParts.meanSquaredDisplacement(pos_t_dim_id[1:msdTime,:,:], arenaParams[\"bperiod\"]);"
   ]
  },
  {
   "cell_type": "code",
   "execution_count": null,
   "metadata": {},
   "outputs": [],
   "source": [
    "# p2 = plot(1:msdTimes[2]-msdTimes[1], msdPart_t[2:end], label=\"particle simulation\", legend=:bottomright, linewidth=2,\n",
    "#     size=(400,300), \n",
    "#     dpi=140)\n",
    "# plot!(1:msdTimes[2]-msdTimes[1], msdLan_t[2:end], label=\"Langevin simulation\", linestyle=:dash, linewidth=2)\n",
    "# xlabel!(L\"t\")\n",
    "# ylabel!(L\"\\left\\langle x(t)^2 \\right\\rangle\")\n",
    "# # title!(latexstring(\"\\\\rho=\"*string(growthParams[\"ρ\"])))\n",
    "# display(p2)\n"
   ]
  },
  {
   "cell_type": "code",
   "execution_count": null,
   "metadata": {},
   "outputs": [],
   "source": [
    "# msdSingles_Sim = []\n",
    "\n",
    "# for sim in 1:nSims\n",
    "#     msd_t = BParts.meanSquaredDisplacement(pos_Sim[sim], msdTimes)\n",
    "#     push!(msdSingles_Sim, msd_t)\n",
    "# end"
   ]
  },
  {
   "cell_type": "code",
   "execution_count": null,
   "metadata": {},
   "outputs": [],
   "source": [
    "# p3 = plot(1:msdTimes[2]-msdTimes[1], msdLan_t[2:end], label=\"Langevin simulation\", linestyle=:dash, linewidth=3,\n",
    "#     legend=:topleft,\n",
    "#     size=(500,300),\n",
    "#     dpi=140)\n",
    "# # plot!(1:msdTimes[2]-msdTimes[1], msdPart_t[2:end], label=\"particle simulation average\", linestyle=:dashdot, linewidth=3)\n",
    "# # plot!(1:msdTimes[2]-msdTimes[1], msdPart0_t[2:end])\n",
    "# for s in 1:nSims\n",
    "#     plot!(1:msdTimes[2]-msdTimes[1], msdSingles_Sim[s][2:end],\n",
    "# #         label=\"particle simulation \"*string(s),\n",
    "#         label=\"\")\n",
    "# end\n",
    "# xlabel!(L\"t\")\n",
    "# ylabel!(L\"\\left\\langle x(t)^2 \\right\\rangle\")\n",
    "# # title!(latexstring(\"\\\\rho=\"*string(growthParams[\"ρ\"])))\n",
    "# display(p3)\n",
    "\n",
    "# # savefig(p2, \"../Figures/rho\"*string(growthParams[\"ρ\"])*\"msd_time.png\")\n",
    "# savefig(p3, \"../Figures/rho\"*string(growthParams[\"ρ\"])*\"msdSingles_time.pdf\")"
   ]
  },
  {
   "cell_type": "markdown",
   "metadata": {},
   "source": [
    "## Position monitor"
   ]
  },
  {
   "cell_type": "code",
   "execution_count": null,
   "metadata": {},
   "outputs": [],
   "source": [
    "# pos_Sim[i] = posSim_t_dim_id\n",
    "# cellID = 22\n",
    "\n",
    "# p3 = plot(pos_Sim[4][:,1,1],pos_Sim[4][:,2,1], label=\"\")\n",
    "# for cellID in 2:100\n",
    "#     plot!(pos_Sim[4][:,1,cellID],pos_Sim[4][:,2,cellID], label=\"\")\n",
    "# end\n",
    "\n",
    "# display(p3)"
   ]
  },
  {
   "cell_type": "code",
   "execution_count": null,
   "metadata": {},
   "outputs": [],
   "source": [
    "# simNumber = 3\n",
    "\n",
    "# p3 = plot(pos_Sim[simNumber][:,1,1],pos_Sim[simNumber][:,2,1],\n",
    "# #     dpi=300,\n",
    "#     label=\"\")\n",
    "# for cellID in 2:50\n",
    "#     plot!(pos_Sim[simNumber][:,1,cellID],pos_Sim[simNumber][:,2,cellID], label=\"\")\n",
    "# end\n",
    "\n",
    "# display(p3)\n",
    "\n",
    "# # savefig(p3, \"singleTrajectories_Sim\"*string(simNumber)*\".png\")"
   ]
  },
  {
   "cell_type": "code",
   "execution_count": null,
   "metadata": {},
   "outputs": [],
   "source": [
    "# simNumber = 4\n",
    "\n",
    "# p3 = plot(pos_Sim[simNumber][:,1,1],pos_Sim[simNumber][:,2,1],\n",
    "# #     dpi=300,\n",
    "#     label=\"\")\n",
    "# for cellID in 2:50\n",
    "#     plot!(pos_Sim[simNumber][:,1,cellID],pos_Sim[simNumber][:,2,cellID], label=\"\")\n",
    "# end\n",
    "\n",
    "# display(p3)\n",
    "\n",
    "# # savefig(p3, \"singleTrajectories_Sim\"*string(simNumber)*\".png\")"
   ]
  },
  {
   "cell_type": "code",
   "execution_count": null,
   "metadata": {},
   "outputs": [],
   "source": [
    "# simNumber = 1\n",
    "\n",
    "# p3 = plot(pos_Sim[simNumber][:,1,1],pos_Sim[simNumber][:,2,1],\n",
    "# #     dpi=300,\n",
    "#     label=\"\")\n",
    "# for cellID in 2:50\n",
    "#     plot!(pos_Sim[simNumber][:,1,cellID],pos_Sim[simNumber][:,2,cellID], label=\"\")\n",
    "# end\n",
    "\n",
    "# display(p3)\n",
    "\n",
    "# # savefig(p3, \"singleTrajectories_Sim\"*string(simNumber)*\".png\")"
   ]
  },
  {
   "cell_type": "code",
   "execution_count": null,
   "metadata": {},
   "outputs": [],
   "source": [
    "# simNumber = 2\n",
    "\n",
    "# p3 = plot(pos_Sim[simNumber][:,1,1],pos_Sim[simNumber][:,2,1],\n",
    "# #     dpi=300,\n",
    "#     label=\"\")\n",
    "# for cellID in 2:50\n",
    "#     plot!(pos_Sim[simNumber][:,1,cellID],pos_Sim[simNumber][:,2,cellID], label=\"\")\n",
    "# end\n",
    "\n",
    "# display(p3)\n",
    "\n",
    "# # savefig(p3, \"singleTrajectories_Sim\"*string(simNumber)*\".png\")"
   ]
  },
  {
   "cell_type": "code",
   "execution_count": null,
   "metadata": {},
   "outputs": [],
   "source": [
    "# simNumber = 5\n",
    "\n",
    "# p3 = plot(pos_Sim[simNumber][:,1,1],pos_Sim[simNumber][:,2,1],\n",
    "# #     dpi=300,\n",
    "#     label=\"\")\n",
    "# for cellID in 2:50\n",
    "#     plot!(pos_Sim[simNumber][:,1,cellID],pos_Sim[simNumber][:,2,cellID], label=\"\")\n",
    "# end\n",
    "\n",
    "# display(p3)\n",
    "\n",
    "# # savefig(p3, \"singleTrajectories_Sim\"*string(simNumber)*\".png\")"
   ]
  },
  {
   "cell_type": "code",
   "execution_count": null,
   "metadata": {},
   "outputs": [],
   "source": []
  }
 ],
 "metadata": {
  "kernelspec": {
   "display_name": "Julia 1.4.2",
   "language": "julia",
   "name": "julia-1.4"
  },
  "language_info": {
   "file_extension": ".jl",
   "mimetype": "application/julia",
   "name": "julia",
   "version": "1.4.2"
  }
 },
 "nbformat": 4,
 "nbformat_minor": 4
}
